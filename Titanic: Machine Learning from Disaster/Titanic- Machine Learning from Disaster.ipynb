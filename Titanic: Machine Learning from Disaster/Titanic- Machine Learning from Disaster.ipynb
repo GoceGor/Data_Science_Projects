{
 "cells": [
  {
   "cell_type": "markdown",
   "metadata": {},
   "source": [
    "Hello and welcome to my notebook for the Kaggle \"Titanic: Machine Learning from Disaster\" Competition. It is a supervised binary classification problem, with the goal of predicting whether a passenger survived the Titanic sinking or not, based on the dataset given on the competition page. The competition's page with more explanation and the dataset can be found on the next link:\n",
    "\n",
    "https://www.kaggle.com/c/titanic\n",
    "\n",
    "This is the first Kaggle competition that I am competing in, and as such presents a way for me to get familiar with some basic concepts of Machine Learning.\n",
    "\n",
    "It will be divided into 2 parts, from which the first one will consist of data preprocessing and in the second part I will be dealing with some of the most common ML algorithms, while following closely the book \"Hands-on Machine learning with SciKit-Learn and Tensorflow\" as a guide. Also, I have used some of the kernels on the competition page for ideas on the data preprocessing steps, but none of the code was taken from there.\n",
    "    \n",
    "To start off, we load the training and the test set, have a first look at the data, and start the steps of the data preprocessing. Since I will be using a number of models, out of which some of them only work with numeric data and are not capable of handling missing data, I will handle the missing data and then transform all the data into numeric values. The steps that will be taken in the data preprocessing are in the next order:\n",
    "\n",
    "1) Handling the missing data;\n",
    "\n",
    "2) Extracting new features, and getting rid of the redundant ones;\n",
    "\n",
    "3) Getting rid of the outliers and checking the normality of the most important continous numeric features;  \n",
    "\n",
    "4) Making sure that all the data is numeric and saving the data for later use."
   ]
  },
  {
   "cell_type": "code",
   "execution_count": 1,
   "metadata": {},
   "outputs": [
    {
     "name": "stdout",
     "output_type": "stream",
     "text": [
      "<class 'pandas.core.frame.DataFrame'>\n",
      "RangeIndex: 891 entries, 0 to 890\n",
      "Data columns (total 12 columns):\n",
      "PassengerId    891 non-null int64\n",
      "Survived       891 non-null int64\n",
      "Pclass         891 non-null int64\n",
      "Name           891 non-null object\n",
      "Sex            891 non-null object\n",
      "Age            714 non-null float64\n",
      "SibSp          891 non-null int64\n",
      "Parch          891 non-null int64\n",
      "Ticket         891 non-null object\n",
      "Fare           891 non-null float64\n",
      "Cabin          204 non-null object\n",
      "Embarked       889 non-null object\n",
      "dtypes: float64(2), int64(5), object(5)\n",
      "memory usage: 83.6+ KB\n",
      "None\n",
      "<class 'pandas.core.frame.DataFrame'>\n",
      "RangeIndex: 418 entries, 0 to 417\n",
      "Data columns (total 11 columns):\n",
      "PassengerId    418 non-null int64\n",
      "Pclass         418 non-null int64\n",
      "Name           418 non-null object\n",
      "Sex            418 non-null object\n",
      "Age            332 non-null float64\n",
      "SibSp          418 non-null int64\n",
      "Parch          418 non-null int64\n",
      "Ticket         418 non-null object\n",
      "Fare           417 non-null float64\n",
      "Cabin          91 non-null object\n",
      "Embarked       418 non-null object\n",
      "dtypes: float64(2), int64(4), object(5)\n",
      "memory usage: 36.0+ KB\n",
      "None\n"
     ]
    }
   ],
   "source": [
    "import warnings\n",
    "warnings.filterwarnings(\"ignore\", category=FutureWarning)\n",
    "\n",
    "import numpy as np\n",
    "import matplotlib.pyplot as plt\n",
    "import seaborn as sns\n",
    "import os\n",
    "import pandas as pd\n",
    "\n",
    "from IPython.display import clear_output\n",
    "\n",
    "DATA_PATH = \"data/\"\n",
    "TRAIN_DATA_NAME = \"train.csv\"\n",
    "TEST_DATA_NAME = \"test.csv\"\n",
    "\n",
    "def load_titanic_data(trainset = True):\n",
    "    data_path = DATA_PATH\n",
    "    if trainset:\n",
    "        data_name = TRAIN_DATA_NAME\n",
    "    else:\n",
    "        data_name = TEST_DATA_NAME\n",
    "    csv_path = os.path.join(data_path, data_name)\n",
    "    return pd.read_csv(csv_path)\n",
    "\n",
    "train_data = load_titanic_data()\n",
    "test_data = load_titanic_data(trainset = False)\n",
    "\n",
    "train_data_cc = train_data.copy()\n",
    "test_data_cc = test_data.copy()\n",
    "\n",
    "label = \"Survived\"\n",
    "test_data_id = test_data_cc[\"PassengerId\"].copy()\n",
    "\n",
    "print(train_data_cc.info())\n",
    "print(test_data_cc.info())"
   ]
  },
  {
   "cell_type": "code",
   "execution_count": 2,
   "metadata": {},
   "outputs": [
    {
     "name": "stdout",
     "output_type": "stream",
     "text": [
      "Train data set described:\n",
      "       PassengerId    Survived      Pclass         Age       SibSp  \\\n",
      "count   891.000000  891.000000  891.000000  714.000000  891.000000   \n",
      "mean    446.000000    0.383838    2.308642   29.699118    0.523008   \n",
      "std     257.353842    0.486592    0.836071   14.526497    1.102743   \n",
      "min       1.000000    0.000000    1.000000    0.420000    0.000000   \n",
      "25%     223.500000    0.000000    2.000000   20.125000    0.000000   \n",
      "50%     446.000000    0.000000    3.000000   28.000000    0.000000   \n",
      "75%     668.500000    1.000000    3.000000   38.000000    1.000000   \n",
      "max     891.000000    1.000000    3.000000   80.000000    8.000000   \n",
      "\n",
      "            Parch        Fare  \n",
      "count  891.000000  891.000000  \n",
      "mean     0.381594   32.204208  \n",
      "std      0.806057   49.693429  \n",
      "min      0.000000    0.000000  \n",
      "25%      0.000000    7.910400  \n",
      "50%      0.000000   14.454200  \n",
      "75%      0.000000   31.000000  \n",
      "max      6.000000  512.329200  \n",
      "\n",
      "\n",
      "\n",
      "\n",
      "Test data set described:\n",
      "       PassengerId      Pclass         Age       SibSp       Parch        Fare\n",
      "count   418.000000  418.000000  332.000000  418.000000  418.000000  417.000000\n",
      "mean   1100.500000    2.265550   30.272590    0.447368    0.392344   35.627188\n",
      "std     120.810458    0.841838   14.181209    0.896760    0.981429   55.907576\n",
      "min     892.000000    1.000000    0.170000    0.000000    0.000000    0.000000\n",
      "25%     996.250000    1.000000   21.000000    0.000000    0.000000    7.895800\n",
      "50%    1100.500000    3.000000   27.000000    0.000000    0.000000   14.454200\n",
      "75%    1204.750000    3.000000   39.000000    1.000000    0.000000   31.500000\n",
      "max    1309.000000    3.000000   76.000000    8.000000    9.000000  512.329200\n"
     ]
    }
   ],
   "source": [
    "print(\"Train data set described:\")\n",
    "print(train_data_cc.describe())\n",
    "print(\"\\n\\n\\n\")\n",
    "print(\"Test data set described:\")\n",
    "print(test_data_cc.describe())"
   ]
  },
  {
   "cell_type": "markdown",
   "metadata": {},
   "source": [
    "As can be observed, categories Age, Cabin, Embarked, and Fare have missing values.\n",
    "\n",
    "Embarked and Fare have only a couple of missing values, so we can fill them with the most frequent value and the median, respectively (Most frequent for Embarked, as it is a textual categorical feature, and median for Fare, as it is a continous numerical value)."
   ]
  },
  {
   "cell_type": "code",
   "execution_count": 3,
   "metadata": {},
   "outputs": [],
   "source": [
    "test_data_cc[\"Fare\"].fillna(test_data_cc[\"Fare\"].median(), inplace = True)\n",
    "train_data_cc[\"Embarked\"].fillna(train_data_cc[\"Embarked\"].value_counts().index[0], inplace = True)"
   ]
  },
  {
   "cell_type": "markdown",
   "metadata": {},
   "source": [
    "Age category has too many missing values, so filling it with the median would not be satisfiable. Instead, I can assume that the fact that there is missing data for that feature is of importance, and that passengers whose age is unknown were maybe more likely not to survive. Therefore, I will fill the missing data with a value that indicates special case (ex. -1), and categorise the age data into several categories, based on the age range span, where age = -1 would be treated as a special case of missing the age information. Age categories would be made in such way to check the assumption that the age of the passengers is correlated to the label (\"Survived\" category), and that it is, as such, an important feature.\n",
    "\n",
    "The new category's important information would then be plotted, and the old Age category would then be dropped."
   ]
  },
  {
   "cell_type": "code",
   "execution_count": 5,
   "metadata": {},
   "outputs": [],
   "source": [
    "train_data_cc[\"Age\"].fillna(-1.0, inplace = True)\n",
    "test_data_cc[\"Age\"].fillna(-1.0, inplace = True)"
   ]
  },
  {
   "cell_type": "code",
   "execution_count": 6,
   "metadata": {},
   "outputs": [
    {
     "name": "stdout",
     "output_type": "stream",
     "text": [
      "Adult             196\n",
      "Older_Adult       195\n",
      "Missing           177\n",
      "Young_Adult       162\n",
      "Teenager           56\n",
      "Child              34\n",
      "Baby               30\n",
      "Senior             22\n",
      "Young_Teenager     19\n",
      "Name: Age_categories, dtype: int64\n",
      "Older_Adult       94\n",
      "Young_Adult       88\n",
      "Missing           86\n",
      "Adult             85\n",
      "Teenager          22\n",
      "Senior            11\n",
      "Child             11\n",
      "Baby              11\n",
      "Young_Teenager    10\n",
      "Name: Age_categories, dtype: int64\n"
     ]
    },
    {
     "data": {
      "image/png": "[encoded data removed]",
      "text/plain": [
       "<Figure size 432x288 with 1 Axes>"
      ]
     },
     "metadata": {
      "needs_background": "light"
     },
     "output_type": "display_data"
    }
   ],
   "source": [
    "cuts = [-2,0,3,10,15,18,25,35,60,90]\n",
    "new_labels = [\"Missing\",\"Baby\",\"Child\",\"Young_Teenager\",\"Teenager\",\"Young_Adult\",\"Adult\",\"Older_Adult\",\"Senior\"]\n",
    "\n",
    "train_data_cc[\"Age_categories\"] = pd.cut(train_data_cc[\"Age\"],cuts,labels=new_labels)\n",
    "test_data_cc[\"Age_categories\"] = pd.cut(test_data_cc[\"Age\"],cuts,labels=new_labels)\n",
    "\n",
    "print(train_data_cc[\"Age_categories\"].value_counts())\n",
    "print(test_data_cc[\"Age_categories\"].value_counts())\n",
    "\n",
    "pivot = train_data_cc.pivot_table(index=[\"Age_categories\"],values=label)\n",
    "pivot.plot.bar()\n",
    "plt.show()"
   ]
  },
  {
   "cell_type": "code",
   "execution_count": 7,
   "metadata": {},
   "outputs": [],
   "source": [
    "train_data_cc.drop([\"Age\"], axis=1, inplace=True)\n",
    "test_data_cc.drop([\"Age\"], axis=1, inplace=True)"
   ]
  },
  {
   "cell_type": "markdown",
   "metadata": {},
   "source": [
    "The last feature (would also be referenced as a \"column\" in the notebook, interchangeably) with missing values is the Cabin column. Due to the amount of missing data (more than 70% in both the training and the test set), the feature could be dropped, but instead I have decided to treat it similar to the Age category. I assume that the fact that a passenger's Cabin is unknown has some information of meaning, so those instances will be filled with \"None\". When it comes to the known Cabin values, they consist of a letter and a number. The letter corresponds to the Deck, and the number is the location of the Cabin on the deck. I extracted only the Deck letter, as I assume that the higher decks had higher survival rates. Those instances with the deck value of None will be given the Deck_N value.  "
   ]
  },
  {
   "cell_type": "code",
   "execution_count": 8,
   "metadata": {},
   "outputs": [
    {
     "name": "stdout",
     "output_type": "stream",
     "text": [
      "N    687\n",
      "C     59\n",
      "B     47\n",
      "D     33\n",
      "E     32\n",
      "A     15\n",
      "F     13\n",
      "G      4\n",
      "T      1\n",
      "Name: Deck, dtype: int64\n",
      "N    327\n",
      "C     35\n",
      "B     18\n",
      "D     13\n",
      "E      9\n",
      "F      8\n",
      "A      7\n",
      "G      1\n",
      "Name: Deck, dtype: int64\n"
     ]
    },
    {
     "data": {
      "image/png": "[encoded data removed]",
      "text/plain": [
       "<Figure size 432x288 with 1 Axes>"
      ]
     },
     "metadata": {
      "needs_background": "light"
     },
     "output_type": "display_data"
    }
   ],
   "source": [
    "train_data_cc[\"Cabin\"].fillna(\"None\", inplace = True)\n",
    "test_data_cc[\"Cabin\"].fillna(\"None\", inplace = True)\n",
    "\n",
    "train_data_cc[\"Deck\"] = train_data_cc[\"Cabin\"].str.slice(0,1)\n",
    "test_data_cc[\"Deck\"] = test_data_cc[\"Cabin\"].str.slice(0,1)\n",
    "print(train_data_cc[\"Deck\"].value_counts())\n",
    "print(test_data_cc[\"Deck\"].value_counts())\n",
    "pivot = train_data_cc.pivot_table(index=[\"Deck\"],values=label)\n",
    "pivot.plot.bar()\n",
    "plt.show()"
   ]
  },
  {
   "cell_type": "markdown",
   "metadata": {},
   "source": [
    "Since Deck T only exists in the training set, it is redundant, and since Deck G only has 1 instance in the test set, I am considering it redundant too. That means that the next step is to call the get_dummies() method for the Deck feature, turning it into numeric features for each of the values, and after that drop the Deck_T and Deck_G features"
   ]
  },
  {
   "cell_type": "code",
   "execution_count": 9,
   "metadata": {},
   "outputs": [],
   "source": [
    "train_data_cc = pd.get_dummies(train_data_cc, prefix=[\"Deck\"], columns=[\"Deck\"])\n",
    "test_data_cc = pd.get_dummies(test_data_cc, prefix=[\"Deck\"], columns=[\"Deck\"])\n",
    "\n",
    "train_data_cc.drop([\"Cabin\", \"Deck_T\", \"Deck_G\"], axis=1, inplace=True) # Doesnt have the T deck\n",
    "test_data_cc.drop([\"Cabin\", \"Deck_G\"], axis=1, inplace=True)"
   ]
  },
  {
   "cell_type": "code",
   "execution_count": 10,
   "metadata": {},
   "outputs": [
    {
     "name": "stdout",
     "output_type": "stream",
     "text": [
      "<class 'pandas.core.frame.DataFrame'>\n",
      "RangeIndex: 891 entries, 0 to 890\n",
      "Data columns (total 18 columns):\n",
      "PassengerId       891 non-null int64\n",
      "Survived          891 non-null int64\n",
      "Pclass            891 non-null int64\n",
      "Name              891 non-null object\n",
      "Sex               891 non-null object\n",
      "SibSp             891 non-null int64\n",
      "Parch             891 non-null int64\n",
      "Ticket            891 non-null object\n",
      "Fare              891 non-null float64\n",
      "Embarked          891 non-null object\n",
      "Age_categories    891 non-null category\n",
      "Deck_A            891 non-null uint8\n",
      "Deck_B            891 non-null uint8\n",
      "Deck_C            891 non-null uint8\n",
      "Deck_D            891 non-null uint8\n",
      "Deck_E            891 non-null uint8\n",
      "Deck_F            891 non-null uint8\n",
      "Deck_N            891 non-null uint8\n",
      "dtypes: category(1), float64(1), int64(5), object(4), uint8(7)\n",
      "memory usage: 77.0+ KB\n",
      "None\n",
      "<class 'pandas.core.frame.DataFrame'>\n",
      "RangeIndex: 418 entries, 0 to 417\n",
      "Data columns (total 17 columns):\n",
      "PassengerId       418 non-null int64\n",
      "Pclass            418 non-null int64\n",
      "Name              418 non-null object\n",
      "Sex               418 non-null object\n",
      "SibSp             418 non-null int64\n",
      "Parch             418 non-null int64\n",
      "Ticket            418 non-null object\n",
      "Fare              418 non-null float64\n",
      "Embarked          418 non-null object\n",
      "Age_categories    418 non-null category\n",
      "Deck_A            418 non-null uint8\n",
      "Deck_B            418 non-null uint8\n",
      "Deck_C            418 non-null uint8\n",
      "Deck_D            418 non-null uint8\n",
      "Deck_E            418 non-null uint8\n",
      "Deck_F            418 non-null uint8\n",
      "Deck_N            418 non-null uint8\n",
      "dtypes: category(1), float64(1), int64(4), object(4), uint8(7)\n",
      "memory usage: 33.1+ KB\n",
      "None\n"
     ]
    }
   ],
   "source": [
    "print(train_data_cc.info())\n",
    "print(test_data_cc.info())"
   ]
  },
  {
   "cell_type": "markdown",
   "metadata": {},
   "source": [
    "Now that there is no missing data, I will do the next steps:\n",
    "\n",
    "1) Immediately drop the features that are redundant and that cannot give any information of use (PassengerId, Ticket);\n",
    "\n",
    "2) Extract the new features from the already existing ones;\n",
    "\n",
    "3) Transform the ramining text categorical features into their numeric representations."
   ]
  },
  {
   "cell_type": "code",
   "execution_count": 11,
   "metadata": {},
   "outputs": [],
   "source": [
    "test_data_id = test_data_cc[\"PassengerId\"].copy() # Will be used later for submissions\n",
    "\n",
    "train_data_cc.drop([\"PassengerId\"], axis = 1, inplace = True)\n",
    "test_data_cc.drop([\"PassengerId\"], axis = 1, inplace = True)\n",
    "train_data_cc.drop([\"Ticket\"], axis=1, inplace=True)\n",
    "test_data_cc.drop([\"Ticket\"], axis=1, inplace=True)"
   ]
  },
  {
   "cell_type": "markdown",
   "metadata": {},
   "source": [
    "The first feature that can be extracted is the Title of the person, as it can be observed that all the names have a title. No other information, like Family Name or the First Name, can be transformed into useful information, so after the extracted and simplified Title feature, the Name will be dropped."
   ]
  },
  {
   "cell_type": "code",
   "execution_count": 12,
   "metadata": {},
   "outputs": [
    {
     "name": "stdout",
     "output_type": "stream",
     "text": [
      "Mr          517\n",
      "Miss        182\n",
      "Mrs         125\n",
      "Master       40\n",
      "Dr            7\n",
      "Rev           6\n",
      "Major         2\n",
      "Col           2\n",
      "Mlle          2\n",
      "Countess      1\n",
      "Jonkheer      1\n",
      "Don           1\n",
      "Capt          1\n",
      "Ms            1\n",
      "Mme           1\n",
      "Lady          1\n",
      "Sir           1\n",
      "Name: Title, dtype: int64\n",
      "Mr        240\n",
      "Miss       78\n",
      "Mrs        72\n",
      "Master     21\n",
      "Col         2\n",
      "Rev         2\n",
      "Ms          1\n",
      "Dr          1\n",
      "Dona        1\n",
      "Name: Title, dtype: int64\n"
     ]
    }
   ],
   "source": [
    "train_data_cc[\"Title\"] = train_data_cc[\"Name\"].str.extract(' ([A-Za-z]+)\\.', expand=False)\n",
    "test_data_cc[\"Title\"] = test_data_cc[\"Name\"].str.extract(' ([A-Za-z]+)\\.', expand=False)\n",
    "print(train_data_cc[\"Title\"].value_counts())\n",
    "print(test_data_cc[\"Title\"].value_counts())"
   ]
  },
  {
   "cell_type": "code",
   "execution_count": 13,
   "metadata": {},
   "outputs": [
    {
     "name": "stdout",
     "output_type": "stream",
     "text": [
      "Mr          517\n",
      "Miss        185\n",
      "Mrs         128\n",
      "Master       40\n",
      "Others       16\n",
      "Military      5\n",
      "Name: Title, dtype: int64\n",
      "Mr          240\n",
      "Miss         79\n",
      "Mrs          73\n",
      "Master       21\n",
      "Others        3\n",
      "Military      2\n",
      "Name: Title, dtype: int64\n"
     ]
    },
    {
     "data": {
      "image/png": "[encoded data removed]",
      "text/plain": [
       "<Figure size 432x288 with 1 Axes>"
      ]
     },
     "metadata": {
      "needs_background": "light"
     },
     "output_type": "display_data"
    }
   ],
   "source": [
    "train_data_cc[\"Title\"] = train_data_cc[\"Title\"].replace([\"Capt\", \"Col\",\"Major\"], \"Military\")\n",
    "train_data_cc[\"Title\"] = train_data_cc[\"Title\"].replace([\"Don\", \"Dr\", \"Rev\", \"Sir\", \"Jonkheer\"], \"Others\")\n",
    "train_data_cc[\"Title\"] = train_data_cc[\"Title\"].replace([\"Mlle\", \"Ms\"], \"Miss\")\n",
    "train_data_cc[\"Title\"] = train_data_cc[\"Title\"].replace([\"Mme\",\"Lady\", \"Countess\",\"Dona\"], \"Mrs\")\n",
    "\n",
    "test_data_cc[\"Title\"] = test_data_cc[\"Title\"].replace([\"Capt\", \"Col\",\"Major\"], \"Military\")\n",
    "test_data_cc[\"Title\"] = test_data_cc[\"Title\"].replace([\"Don\", \"Dr\", \"Rev\", \"Sir\", \"Jonkheer\"], \"Others\")\n",
    "test_data_cc[\"Title\"] = test_data_cc[\"Title\"].replace([\"Mlle\", \"Ms\"], \"Miss\")\n",
    "test_data_cc[\"Title\"] = test_data_cc[\"Title\"].replace([\"Mme\",\"Lady\", \"Countess\",\"Dona\"], \"Mrs\")\n",
    "\n",
    "print(train_data_cc[\"Title\"].value_counts())\n",
    "print(test_data_cc[\"Title\"].value_counts())\n",
    "pivot = train_data_cc.pivot_table(index=[\"Title\"],values=label)\n",
    "pivot.plot.bar()\n",
    "plt.show()"
   ]
  },
  {
   "cell_type": "code",
   "execution_count": 14,
   "metadata": {},
   "outputs": [],
   "source": [
    "train_data_cc.drop([\"Name\"], axis = 1, inplace = True)\n",
    "test_data_cc.drop([\"Name\"], axis = 1, inplace = True)"
   ]
  },
  {
   "cell_type": "markdown",
   "metadata": {},
   "source": [
    "Next feature that could be extracted is the total number of Family members. I have also observed that the ticket price (Fare), is the same for all the people sharing the same family name (probably the ticket was bought for all of them together, as they are sharing the Cabin). Therefore, it makes sense to make a feature of FarePerPerson (Fare / FamilyMembers), that would, to my assumption, correlate even better to how expensive the ticket really was."
   ]
  },
  {
   "cell_type": "code",
   "execution_count": 15,
   "metadata": {},
   "outputs": [
    {
     "name": "stdout",
     "output_type": "stream",
     "text": [
      "0     537\n",
      "1     161\n",
      "2     102\n",
      "3      29\n",
      "5      22\n",
      "4      15\n",
      "6      12\n",
      "10      7\n",
      "7       6\n",
      "Name: FamilyMembers, dtype: int64\n",
      "0     253\n",
      "1      74\n",
      "2      57\n",
      "3      14\n",
      "4       7\n",
      "10      4\n",
      "6       4\n",
      "5       3\n",
      "7       2\n",
      "Name: FamilyMembers, dtype: int64\n"
     ]
    },
    {
     "data": {
      "image/png": "[encoded data removed]",
      "text/plain": [
       "<Figure size 432x288 with 1 Axes>"
      ]
     },
     "metadata": {
      "needs_background": "light"
     },
     "output_type": "display_data"
    }
   ],
   "source": [
    "train_data_cc[\"FamilyMembers\"] = train_data_cc[\"SibSp\"]+train_data_cc[\"Parch\"]\n",
    "test_data_cc[\"FamilyMembers\"] = test_data_cc[\"SibSp\"]+test_data_cc[\"Parch\"]\n",
    "\n",
    "train_data_cc[\"FarePerPerson\"] = train_data_cc[\"Fare\"]/(train_data_cc[\"FamilyMembers\"]+1)\n",
    "test_data_cc[\"FarePerPerson\"] = test_data_cc[\"Fare\"]/(test_data_cc[\"FamilyMembers\"]+1)\n",
    "\n",
    "print(train_data_cc[\"FamilyMembers\"].value_counts())\n",
    "print(test_data_cc[\"FamilyMembers\"].value_counts())\n",
    "pivot = train_data_cc.pivot_table(index=[\"FamilyMembers\"],values=label)\n",
    "pivot.plot.bar()\n",
    "plt.show()"
   ]
  },
  {
   "cell_type": "markdown",
   "metadata": {},
   "source": [
    "Once that was made, I would transform the FamilyMembers feature into a feature that I assume is more interesting, FamilyType. Based on the number of Family Members of each passenger, I would group them into belonging to one of 4 categories: Solo passengers, SmallFamily members, MediumFamily members, and BigFamily members. The assumption is that Families of 2-4 members are most likely to have their members survive. \n",
    "Solo passengers are most probably adults with no children and are probably less likely to survive. \n",
    "Members of big families (5+ members) are also less likely to survive, due to small the chances of all of them being admitted on the lifeboats."
   ]
  },
  {
   "cell_type": "code",
   "execution_count": 16,
   "metadata": {},
   "outputs": [
    {
     "name": "stdout",
     "output_type": "stream",
     "text": [
      "No        537\n",
      "Small     161\n",
      "Medium    131\n",
      "Big        62\n",
      "Name: FamilyType, dtype: int64\n",
      "No        253\n",
      "Small      74\n",
      "Medium     71\n",
      "Big        20\n",
      "Name: FamilyType, dtype: int64\n"
     ]
    },
    {
     "data": {
      "image/png": "[encoded data removed]",
      "text/plain": [
       "<Figure size 432x288 with 1 Axes>"
      ]
     },
     "metadata": {
      "needs_background": "light"
     },
     "output_type": "display_data"
    }
   ],
   "source": [
    "train_data_cc.loc[(train_data_cc[\"FamilyMembers\"].isin([0])), \"FamilyType\"] = \"No\"\n",
    "train_data_cc.loc[(train_data_cc[\"FamilyMembers\"].isin([1])), \"FamilyType\"] = \"Small\"\n",
    "train_data_cc.loc[(train_data_cc[\"FamilyMembers\"].isin([2,3])), \"FamilyType\"] = \"Medium\"\n",
    "train_data_cc.loc[(train_data_cc[\"FamilyMembers\"].isin([4,5,6,7,10])), \"FamilyType\"] = \"Big\"\n",
    "\n",
    "test_data_cc.loc[(test_data_cc[\"FamilyMembers\"].isin([0])), \"FamilyType\"] = \"No\"\n",
    "test_data_cc.loc[(test_data_cc[\"FamilyMembers\"].isin([1])), \"FamilyType\"] = \"Small\"\n",
    "test_data_cc.loc[(test_data_cc[\"FamilyMembers\"].isin([2,3])), \"FamilyType\"] = \"Medium\"\n",
    "test_data_cc.loc[(test_data_cc[\"FamilyMembers\"].isin([4,5,6,7,10])), \"FamilyType\"] = \"Big\"\n",
    "\n",
    "print(train_data_cc[\"FamilyType\"].value_counts())\n",
    "print(test_data_cc[\"FamilyType\"].value_counts())\n",
    "pivot = train_data_cc.pivot_table(index=[\"FamilyType\"],values=label)\n",
    "pivot.plot.bar()\n",
    "plt.show()\n",
    "\n",
    "train_data_cc.drop([\"FamilyMembers\"], axis = 1, inplace = True)\n",
    "test_data_cc.drop([\"FamilyMembers\"], axis = 1, inplace = True)"
   ]
  },
  {
   "cell_type": "code",
   "execution_count": 17,
   "metadata": {},
   "outputs": [
    {
     "name": "stdout",
     "output_type": "stream",
     "text": [
      "<class 'pandas.core.frame.DataFrame'>\n",
      "RangeIndex: 891 entries, 0 to 890\n",
      "Data columns (total 18 columns):\n",
      "Survived          891 non-null int64\n",
      "Pclass            891 non-null int64\n",
      "Sex               891 non-null object\n",
      "SibSp             891 non-null int64\n",
      "Parch             891 non-null int64\n",
      "Fare              891 non-null float64\n",
      "Embarked          891 non-null object\n",
      "Age_categories    891 non-null category\n",
      "Deck_A            891 non-null uint8\n",
      "Deck_B            891 non-null uint8\n",
      "Deck_C            891 non-null uint8\n",
      "Deck_D            891 non-null uint8\n",
      "Deck_E            891 non-null uint8\n",
      "Deck_F            891 non-null uint8\n",
      "Deck_N            891 non-null uint8\n",
      "Title             891 non-null object\n",
      "FarePerPerson     891 non-null float64\n",
      "FamilyType        891 non-null object\n",
      "dtypes: category(1), float64(2), int64(4), object(4), uint8(7)\n",
      "memory usage: 77.0+ KB\n",
      "None\n",
      "<class 'pandas.core.frame.DataFrame'>\n",
      "RangeIndex: 418 entries, 0 to 417\n",
      "Data columns (total 17 columns):\n",
      "Pclass            418 non-null int64\n",
      "Sex               418 non-null object\n",
      "SibSp             418 non-null int64\n",
      "Parch             418 non-null int64\n",
      "Fare              418 non-null float64\n",
      "Embarked          418 non-null object\n",
      "Age_categories    418 non-null category\n",
      "Deck_A            418 non-null uint8\n",
      "Deck_B            418 non-null uint8\n",
      "Deck_C            418 non-null uint8\n",
      "Deck_D            418 non-null uint8\n",
      "Deck_E            418 non-null uint8\n",
      "Deck_F            418 non-null uint8\n",
      "Deck_N            418 non-null uint8\n",
      "Title             418 non-null object\n",
      "FarePerPerson     418 non-null float64\n",
      "FamilyType        418 non-null object\n",
      "dtypes: category(1), float64(2), int64(3), object(4), uint8(7)\n",
      "memory usage: 33.1+ KB\n",
      "None\n"
     ]
    }
   ],
   "source": [
    "print(train_data_cc.info())\n",
    "print(test_data_cc.info())"
   ]
  },
  {
   "cell_type": "markdown",
   "metadata": {},
   "source": [
    "Now that all the interesting features have been extracted, the redundant ones have been deleted and there is no more missing data, I will transform the categorical text features into numeric by calling the get_dummies() function."
   ]
  },
  {
   "cell_type": "code",
   "execution_count": 18,
   "metadata": {},
   "outputs": [],
   "source": [
    "text_features = [\"FamilyType\",\"Title\",\"Age_categories\",\"Embarked\",\"Sex\"]\n",
    "\n",
    "train_data_cc = pd.get_dummies(train_data_cc, prefix=text_features, columns=text_features)\n",
    "test_data_cc = pd.get_dummies(test_data_cc, prefix=text_features, columns=text_features)"
   ]
  },
  {
   "cell_type": "markdown",
   "metadata": {},
   "source": [
    "Sex_male and Sex_female features now hold the same piece of information, so one of them should be dropped (ex. Sex_male)"
   ]
  },
  {
   "cell_type": "code",
   "execution_count": 19,
   "metadata": {},
   "outputs": [
    {
     "name": "stdout",
     "output_type": "stream",
     "text": [
      "<class 'pandas.core.frame.DataFrame'>\n",
      "RangeIndex: 891 entries, 0 to 890\n",
      "Data columns (total 36 columns):\n",
      "Survived                         891 non-null int64\n",
      "Pclass                           891 non-null int64\n",
      "SibSp                            891 non-null int64\n",
      "Parch                            891 non-null int64\n",
      "Fare                             891 non-null float64\n",
      "Deck_A                           891 non-null uint8\n",
      "Deck_B                           891 non-null uint8\n",
      "Deck_C                           891 non-null uint8\n",
      "Deck_D                           891 non-null uint8\n",
      "Deck_E                           891 non-null uint8\n",
      "Deck_F                           891 non-null uint8\n",
      "Deck_N                           891 non-null uint8\n",
      "FarePerPerson                    891 non-null float64\n",
      "FamilyType_Big                   891 non-null uint8\n",
      "FamilyType_Medium                891 non-null uint8\n",
      "FamilyType_No                    891 non-null uint8\n",
      "FamilyType_Small                 891 non-null uint8\n",
      "Title_Master                     891 non-null uint8\n",
      "Title_Military                   891 non-null uint8\n",
      "Title_Miss                       891 non-null uint8\n",
      "Title_Mr                         891 non-null uint8\n",
      "Title_Mrs                        891 non-null uint8\n",
      "Title_Others                     891 non-null uint8\n",
      "Age_categories_Missing           891 non-null uint8\n",
      "Age_categories_Baby              891 non-null uint8\n",
      "Age_categories_Child             891 non-null uint8\n",
      "Age_categories_Young_Teenager    891 non-null uint8\n",
      "Age_categories_Teenager          891 non-null uint8\n",
      "Age_categories_Young_Adult       891 non-null uint8\n",
      "Age_categories_Adult             891 non-null uint8\n",
      "Age_categories_Older_Adult       891 non-null uint8\n",
      "Age_categories_Senior            891 non-null uint8\n",
      "Embarked_C                       891 non-null uint8\n",
      "Embarked_Q                       891 non-null uint8\n",
      "Embarked_S                       891 non-null uint8\n",
      "Sex_female                       891 non-null uint8\n",
      "dtypes: float64(2), int64(4), uint8(30)\n",
      "memory usage: 67.9 KB\n",
      "None\n",
      "<class 'pandas.core.frame.DataFrame'>\n",
      "RangeIndex: 418 entries, 0 to 417\n",
      "Data columns (total 35 columns):\n",
      "Pclass                           418 non-null int64\n",
      "SibSp                            418 non-null int64\n",
      "Parch                            418 non-null int64\n",
      "Fare                             418 non-null float64\n",
      "Deck_A                           418 non-null uint8\n",
      "Deck_B                           418 non-null uint8\n",
      "Deck_C                           418 non-null uint8\n",
      "Deck_D                           418 non-null uint8\n",
      "Deck_E                           418 non-null uint8\n",
      "Deck_F                           418 non-null uint8\n",
      "Deck_N                           418 non-null uint8\n",
      "FarePerPerson                    418 non-null float64\n",
      "FamilyType_Big                   418 non-null uint8\n",
      "FamilyType_Medium                418 non-null uint8\n",
      "FamilyType_No                    418 non-null uint8\n",
      "FamilyType_Small                 418 non-null uint8\n",
      "Title_Master                     418 non-null uint8\n",
      "Title_Military                   418 non-null uint8\n",
      "Title_Miss                       418 non-null uint8\n",
      "Title_Mr                         418 non-null uint8\n",
      "Title_Mrs                        418 non-null uint8\n",
      "Title_Others                     418 non-null uint8\n",
      "Age_categories_Missing           418 non-null uint8\n",
      "Age_categories_Baby              418 non-null uint8\n",
      "Age_categories_Child             418 non-null uint8\n",
      "Age_categories_Young_Teenager    418 non-null uint8\n",
      "Age_categories_Teenager          418 non-null uint8\n",
      "Age_categories_Young_Adult       418 non-null uint8\n",
      "Age_categories_Adult             418 non-null uint8\n",
      "Age_categories_Older_Adult       418 non-null uint8\n",
      "Age_categories_Senior            418 non-null uint8\n",
      "Embarked_C                       418 non-null uint8\n",
      "Embarked_Q                       418 non-null uint8\n",
      "Embarked_S                       418 non-null uint8\n",
      "Sex_female                       418 non-null uint8\n",
      "dtypes: float64(2), int64(3), uint8(30)\n",
      "memory usage: 28.7 KB\n",
      "None\n"
     ]
    }
   ],
   "source": [
    "train_data_cc.drop([\"Sex_male\"], axis = 1, inplace = True)\n",
    "test_data_cc.drop([\"Sex_male\"], axis = 1, inplace = True)\n",
    "\n",
    "print(train_data_cc.info())\n",
    "print(test_data_cc.info())"
   ]
  },
  {
   "cell_type": "markdown",
   "metadata": {},
   "source": [
    "Now that all the data is numeric I will plot Fare and FarePerPerson as continous numeric data, and all the other features as categorical (discrete) numeric data, to gain more insight into the current version of the training set. "
   ]
  },
  {
   "cell_type": "code",
   "execution_count": 20,
   "metadata": {},
   "outputs": [
    {
     "data": {
      "image/png": "[encoded data removed]",
      "text/plain": [
       "<Figure size 432x288 with 1 Axes>"
      ]
     },
     "metadata": {
      "needs_background": "light"
     },
     "output_type": "display_data"
    },
    {
     "data": {
      "image/png": "[encoded data removed]",
      "text/plain": [
       "<Figure size 432x288 with 1 Axes>"
      ]
     },
     "metadata": {
      "needs_background": "light"
     },
     "output_type": "display_data"
    }
   ],
   "source": [
    "from scipy import stats\n",
    "\n",
    "continous = [\"Fare\", \"FarePerPerson\"]\n",
    "all_features = list(test_data_cc.columns)\n",
    "discrete = [item for item in all_features if item not in continous]\n",
    "\n",
    "for category in continous:\n",
    "    sns.regplot(train_data_cc[category], train_data_cc[label])\n",
    "    stp = stats.pearsonr(train_data_cc[category], train_data_cc[label])\n",
    "    str_title = \"r = \" + \"{0:.2f}\".format(stp[0]) + \",\" \"p = \" + \"{0:.2f}\".format(stp[1])\n",
    "    plt.title(str_title)\n",
    "    plt.show()"
   ]
  },
  {
   "cell_type": "markdown",
   "metadata": {},
   "source": [
    "Outliers are those passengers that had expensive 1-class tickets, but that still didnt survive:"
   ]
  },
  {
   "cell_type": "code",
   "execution_count": 21,
   "metadata": {},
   "outputs": [
    {
     "name": "stdout",
     "output_type": "stream",
     "text": [
      "     Survived  Pclass  SibSp  Parch      Fare  Deck_A  Deck_B  Deck_C  Deck_D  \\\n",
      "118         0       1      0      1  247.5208       0       1       0       0   \n",
      "373         0       1      0      0  135.6333       0       0       0       0   \n",
      "527         0       1      0      0  221.7792       0       0       1       0   \n",
      "557         0       1      0      0  227.5250       0       0       0       0   \n",
      "\n",
      "     Deck_E     ...      Age_categories_Young_Teenager  \\\n",
      "118       0     ...                                  0   \n",
      "373       0     ...                                  0   \n",
      "527       0     ...                                  0   \n",
      "557       0     ...                                  0   \n",
      "\n",
      "     Age_categories_Teenager  Age_categories_Young_Adult  \\\n",
      "118                        0                           1   \n",
      "373                        0                           1   \n",
      "527                        0                           0   \n",
      "557                        0                           0   \n",
      "\n",
      "     Age_categories_Adult  Age_categories_Older_Adult  Age_categories_Senior  \\\n",
      "118                     0                           0                      0   \n",
      "373                     0                           0                      0   \n",
      "527                     0                           0                      0   \n",
      "557                     0                           0                      0   \n",
      "\n",
      "     Embarked_C  Embarked_Q  Embarked_S  Sex_female  \n",
      "118           1           0           0           0  \n",
      "373           1           0           0           0  \n",
      "527           0           0           1           0  \n",
      "557           1           0           0           0  \n",
      "\n",
      "[4 rows x 36 columns]\n"
     ]
    }
   ],
   "source": [
    "print(train_data_cc.loc[(train_data_cc['FarePerPerson'] >= 100) & (train_data_cc['Survived'] == 0)])"
   ]
  },
  {
   "cell_type": "code",
   "execution_count": 22,
   "metadata": {},
   "outputs": [],
   "source": [
    "train_data_cc.drop(train_data_cc.index[[118, 373, 527, 557]], inplace = True)"
   ]
  },
  {
   "cell_type": "markdown",
   "metadata": {},
   "source": [
    "Plot the distribution of these two features to check their normality"
   ]
  },
  {
   "cell_type": "code",
   "execution_count": 23,
   "metadata": {},
   "outputs": [
    {
     "data": {
      "text/plain": [
       "<matplotlib.axes._subplots.AxesSubplot at 0x7fcb2c859390>"
      ]
     },
     "execution_count": 23,
     "metadata": {},
     "output_type": "execute_result"
    },
    {
     "data": {
      "image/png": "[encoded data removed]",
      "text/plain": [
       "<Figure size 432x288 with 1 Axes>"
      ]
     },
     "metadata": {
      "needs_background": "light"
     },
     "output_type": "display_data"
    }
   ],
   "source": [
    "sns.distplot(train_data_cc[\"Fare\"])\n",
    "sns.distplot(train_data_cc[\"FarePerPerson\"])"
   ]
  },
  {
   "cell_type": "code",
   "execution_count": 24,
   "metadata": {},
   "outputs": [],
   "source": [
    "# As they have the 0 values, i need to use log1p\n",
    "\n",
    "train_data_cc[\"Fare\"] = np.log1p(train_data_cc[\"Fare\"])\n",
    "train_data_cc[\"FarePerPerson\"] = np.log1p(train_data_cc[\"FarePerPerson\"])\n",
    "\n",
    "test_data_cc[\"Fare\"] = np.log1p(test_data_cc[\"Fare\"])\n",
    "test_data_cc[\"FarePerPerson\"] = np.log1p(test_data_cc[\"FarePerPerson\"])"
   ]
  },
  {
   "cell_type": "code",
   "execution_count": 25,
   "metadata": {},
   "outputs": [
    {
     "data": {
      "image/png": "[encoded data removed]",
      "text/plain": [
       "<Figure size 432x288 with 1 Axes>"
      ]
     },
     "metadata": {
      "needs_background": "light"
     },
     "output_type": "display_data"
    },
    {
     "data": {
      "image/png": "[encoded data removed]",
      "text/plain": [
       "<Figure size 432x288 with 1 Axes>"
      ]
     },
     "metadata": {
      "needs_background": "light"
     },
     "output_type": "display_data"
    }
   ],
   "source": [
    "for category in continous:\n",
    "    sns.regplot(train_data_cc[category], train_data_cc[label])\n",
    "    stp = stats.pearsonr(train_data_cc[category], train_data_cc[label])\n",
    "    str_title = \"r = \" + \"{0:.2f}\".format(stp[0]) + \",\" \"p = \" + \"{0:.2f}\".format(stp[1])\n",
    "    plt.title(str_title)\n",
    "    plt.show()"
   ]
  },
  {
   "cell_type": "code",
   "execution_count": 26,
   "metadata": {},
   "outputs": [
    {
     "data": {
      "text/plain": [
       "<matplotlib.axes._subplots.AxesSubplot at 0x7fcb2c857b38>"
      ]
     },
     "execution_count": 26,
     "metadata": {},
     "output_type": "execute_result"
    },
    {
     "data": {
      "image/png": "[encoded data removed]",
      "text/plain": [
       "<Figure size 432x288 with 1 Axes>"
      ]
     },
     "metadata": {
      "needs_background": "light"
     },
     "output_type": "display_data"
    }
   ],
   "source": [
    "sns.distplot(train_data_cc[\"Fare\"])\n",
    "sns.distplot(train_data_cc[\"FarePerPerson\"])"
   ]
  },
  {
   "cell_type": "markdown",
   "metadata": {},
   "source": [
    "Looks much better, now I plot the discrete numeric features"
   ]
  },
  {
   "cell_type": "code",
   "execution_count": 27,
   "metadata": {},
   "outputs": [
    {
     "name": "stdout",
     "output_type": "stream",
     "text": [
      "3    491\n",
      "1    212\n",
      "2    184\n",
      "Name: Pclass, dtype: int64\n",
      "3    218\n",
      "1    107\n",
      "2     93\n",
      "Name: Pclass, dtype: int64\n"
     ]
    },
    {
     "data": {
      "image/png": "[encoded data removed]",
      "text/plain": [
       "<Figure size 432x288 with 1 Axes>"
      ]
     },
     "metadata": {
      "needs_background": "light"
     },
     "output_type": "display_data"
    },
    {
     "name": "stdout",
     "output_type": "stream",
     "text": [
      "0    604\n",
      "1    209\n",
      "2     28\n",
      "4     18\n",
      "3     16\n",
      "8      7\n",
      "5      5\n",
      "Name: SibSp, dtype: int64\n",
      "0    283\n",
      "1    110\n",
      "2     14\n",
      "4      4\n",
      "3      4\n",
      "8      2\n",
      "5      1\n",
      "Name: SibSp, dtype: int64\n"
     ]
    },
    {
     "data": {
      "image/png": "[encoded data removed]",
      "text/plain": [
       "<Figure size 432x288 with 1 Axes>"
      ]
     },
     "metadata": {
      "needs_background": "light"
     },
     "output_type": "display_data"
    },
    {
     "name": "stdout",
     "output_type": "stream",
     "text": [
      "0    675\n",
      "1    117\n",
      "2     80\n",
      "5      5\n",
      "3      5\n",
      "4      4\n",
      "6      1\n",
      "Name: Parch, dtype: int64\n",
      "0    324\n",
      "1     52\n",
      "2     33\n",
      "3      3\n",
      "9      2\n",
      "4      2\n",
      "6      1\n",
      "5      1\n",
      "Name: Parch, dtype: int64\n"
     ]
    },
    {
     "data": {
      "image/png": "[encoded data removed]",
      "text/plain": [
       "<Figure size 432x288 with 1 Axes>"
      ]
     },
     "metadata": {
      "needs_background": "light"
     },
     "output_type": "display_data"
    },
    {
     "name": "stdout",
     "output_type": "stream",
     "text": [
      "0    872\n",
      "1     15\n",
      "Name: Deck_A, dtype: int64\n",
      "0    411\n",
      "1      7\n",
      "Name: Deck_A, dtype: int64\n"
     ]
    },
    {
     "data": {
      "image/png": "[encoded data removed]",
      "text/plain": [
       "<Figure size 432x288 with 1 Axes>"
      ]
     },
     "metadata": {
      "needs_background": "light"
     },
     "output_type": "display_data"
    },
    {
     "name": "stdout",
     "output_type": "stream",
     "text": [
      "0    841\n",
      "1     46\n",
      "Name: Deck_B, dtype: int64\n",
      "0    400\n",
      "1     18\n",
      "Name: Deck_B, dtype: int64\n"
     ]
    },
    {
     "data": {
      "image/png": "[encoded data removed]",
      "text/plain": [
       "<Figure size 432x288 with 1 Axes>"
      ]
     },
     "metadata": {
      "needs_background": "light"
     },
     "output_type": "display_data"
    },
    {
     "name": "stdout",
     "output_type": "stream",
     "text": [
      "0    829\n",
      "1     58\n",
      "Name: Deck_C, dtype: int64\n",
      "0    383\n",
      "1     35\n",
      "Name: Deck_C, dtype: int64\n"
     ]
    },
    {
     "data": {
      "image/png": "[encoded data removed]",
      "text/plain": [
       "<Figure size 432x288 with 1 Axes>"
      ]
     },
     "metadata": {
      "needs_background": "light"
     },
     "output_type": "display_data"
    },
    {
     "name": "stdout",
     "output_type": "stream",
     "text": [
      "0    854\n",
      "1     33\n",
      "Name: Deck_D, dtype: int64\n",
      "0    405\n",
      "1     13\n",
      "Name: Deck_D, dtype: int64\n"
     ]
    },
    {
     "data": {
      "image/png": "[encoded data removed]",
      "text/plain": [
       "<Figure size 432x288 with 1 Axes>"
      ]
     },
     "metadata": {
      "needs_background": "light"
     },
     "output_type": "display_data"
    },
    {
     "name": "stdout",
     "output_type": "stream",
     "text": [
      "0    855\n",
      "1     32\n",
      "Name: Deck_E, dtype: int64\n",
      "0    409\n",
      "1      9\n",
      "Name: Deck_E, dtype: int64\n"
     ]
    },
    {
     "data": {
      "image/png": "[encoded data removed]",
      "text/plain": [
       "<Figure size 432x288 with 1 Axes>"
      ]
     },
     "metadata": {
      "needs_background": "light"
     },
     "output_type": "display_data"
    },
    {
     "name": "stdout",
     "output_type": "stream",
     "text": [
      "0    874\n",
      "1     13\n",
      "Name: Deck_F, dtype: int64\n",
      "0    410\n",
      "1      8\n",
      "Name: Deck_F, dtype: int64\n"
     ]
    },
    {
     "data": {
      "image/png": "[encoded data removed]",
      "text/plain": [
       "<Figure size 432x288 with 1 Axes>"
      ]
     },
     "metadata": {
      "needs_background": "light"
     },
     "output_type": "display_data"
    },
    {
     "name": "stdout",
     "output_type": "stream",
     "text": [
      "1    685\n",
      "0    202\n",
      "Name: Deck_N, dtype: int64\n",
      "1    327\n",
      "0     91\n",
      "Name: Deck_N, dtype: int64\n"
     ]
    },
    {
     "data": {
      "image/png": "[encoded data removed]",
      "text/plain": [
       "<Figure size 432x288 with 1 Axes>"
      ]
     },
     "metadata": {
      "needs_background": "light"
     },
     "output_type": "display_data"
    },
    {
     "name": "stdout",
     "output_type": "stream",
     "text": [
      "0    825\n",
      "1     62\n",
      "Name: FamilyType_Big, dtype: int64\n",
      "0    398\n",
      "1     20\n",
      "Name: FamilyType_Big, dtype: int64\n"
     ]
    },
    {
     "data": {
      "image/png": "[encoded data removed]",
      "text/plain": [
       "<Figure size 432x288 with 1 Axes>"
      ]
     },
     "metadata": {
      "needs_background": "light"
     },
     "output_type": "display_data"
    },
    {
     "name": "stdout",
     "output_type": "stream",
     "text": [
      "0    756\n",
      "1    131\n",
      "Name: FamilyType_Medium, dtype: int64\n",
      "0    347\n",
      "1     71\n",
      "Name: FamilyType_Medium, dtype: int64\n"
     ]
    },
    {
     "data": {
      "image/png": "[encoded data removed]",
      "text/plain": [
       "<Figure size 432x288 with 1 Axes>"
      ]
     },
     "metadata": {
      "needs_background": "light"
     },
     "output_type": "display_data"
    },
    {
     "name": "stdout",
     "output_type": "stream",
     "text": [
      "1    534\n",
      "0    353\n",
      "Name: FamilyType_No, dtype: int64\n",
      "1    253\n",
      "0    165\n",
      "Name: FamilyType_No, dtype: int64\n"
     ]
    },
    {
     "data": {
      "image/png": "[encoded data removed]",
      "text/plain": [
       "<Figure size 432x288 with 1 Axes>"
      ]
     },
     "metadata": {
      "needs_background": "light"
     },
     "output_type": "display_data"
    },
    {
     "name": "stdout",
     "output_type": "stream",
     "text": [
      "0    727\n",
      "1    160\n",
      "Name: FamilyType_Small, dtype: int64\n",
      "0    344\n",
      "1     74\n",
      "Name: FamilyType_Small, dtype: int64\n"
     ]
    },
    {
     "data": {
      "image/png": "[encoded data removed]",
      "text/plain": [
       "<Figure size 432x288 with 1 Axes>"
      ]
     },
     "metadata": {
      "needs_background": "light"
     },
     "output_type": "display_data"
    },
    {
     "name": "stdout",
     "output_type": "stream",
     "text": [
      "0    847\n",
      "1     40\n",
      "Name: Title_Master, dtype: int64\n",
      "0    397\n",
      "1     21\n",
      "Name: Title_Master, dtype: int64\n"
     ]
    },
    {
     "data": {
      "image/png": "[encoded data removed]",
      "text/plain": [
       "<Figure size 432x288 with 1 Axes>"
      ]
     },
     "metadata": {
      "needs_background": "light"
     },
     "output_type": "display_data"
    },
    {
     "name": "stdout",
     "output_type": "stream",
     "text": [
      "0    882\n",
      "1      5\n",
      "Name: Title_Military, dtype: int64\n",
      "0    416\n",
      "1      2\n",
      "Name: Title_Military, dtype: int64\n"
     ]
    },
    {
     "data": {
      "image/png": "[encoded data removed]",
      "text/plain": [
       "<Figure size 432x288 with 1 Axes>"
      ]
     },
     "metadata": {
      "needs_background": "light"
     },
     "output_type": "display_data"
    },
    {
     "name": "stdout",
     "output_type": "stream",
     "text": [
      "0    702\n",
      "1    185\n",
      "Name: Title_Miss, dtype: int64\n",
      "0    339\n",
      "1     79\n",
      "Name: Title_Miss, dtype: int64\n"
     ]
    },
    {
     "data": {
      "image/png": "[encoded data removed]",
      "text/plain": [
       "<Figure size 432x288 with 1 Axes>"
      ]
     },
     "metadata": {
      "needs_background": "light"
     },
     "output_type": "display_data"
    },
    {
     "name": "stdout",
     "output_type": "stream",
     "text": [
      "1    513\n",
      "0    374\n",
      "Name: Title_Mr, dtype: int64\n",
      "1    240\n",
      "0    178\n",
      "Name: Title_Mr, dtype: int64\n"
     ]
    },
    {
     "data": {
      "image/png": "[encoded data removed]",
      "text/plain": [
       "<Figure size 432x288 with 1 Axes>"
      ]
     },
     "metadata": {
      "needs_background": "light"
     },
     "output_type": "display_data"
    },
    {
     "name": "stdout",
     "output_type": "stream",
     "text": [
      "0    759\n",
      "1    128\n",
      "Name: Title_Mrs, dtype: int64\n",
      "0    345\n",
      "1     73\n",
      "Name: Title_Mrs, dtype: int64\n"
     ]
    },
    {
     "data": {
      "image/png": "[encoded data removed]",
      "text/plain": [
       "<Figure size 432x288 with 1 Axes>"
      ]
     },
     "metadata": {
      "needs_background": "light"
     },
     "output_type": "display_data"
    },
    {
     "name": "stdout",
     "output_type": "stream",
     "text": [
      "0    871\n",
      "1     16\n",
      "Name: Title_Others, dtype: int64\n",
      "0    415\n",
      "1      3\n",
      "Name: Title_Others, dtype: int64\n"
     ]
    },
    {
     "data": {
      "image/png": "[encoded data removed]",
      "text/plain": [
       "<Figure size 432x288 with 1 Axes>"
      ]
     },
     "metadata": {
      "needs_background": "light"
     },
     "output_type": "display_data"
    },
    {
     "name": "stdout",
     "output_type": "stream",
     "text": [
      "0    712\n",
      "1    175\n",
      "Name: Age_categories_Missing, dtype: int64\n",
      "0    332\n",
      "1     86\n",
      "Name: Age_categories_Missing, dtype: int64\n"
     ]
    },
    {
     "data": {
      "image/png": "[encoded data removed]",
      "text/plain": [
       "<Figure size 432x288 with 1 Axes>"
      ]
     },
     "metadata": {
      "needs_background": "light"
     },
     "output_type": "display_data"
    },
    {
     "name": "stdout",
     "output_type": "stream",
     "text": [
      "0    857\n",
      "1     30\n",
      "Name: Age_categories_Baby, dtype: int64\n",
      "0    407\n",
      "1     11\n",
      "Name: Age_categories_Baby, dtype: int64\n"
     ]
    },
    {
     "data": {
      "image/png": "[encoded data removed]",
      "text/plain": [
       "<Figure size 432x288 with 1 Axes>"
      ]
     },
     "metadata": {
      "needs_background": "light"
     },
     "output_type": "display_data"
    },
    {
     "name": "stdout",
     "output_type": "stream",
     "text": [
      "0    853\n",
      "1     34\n",
      "Name: Age_categories_Child, dtype: int64\n",
      "0    407\n",
      "1     11\n",
      "Name: Age_categories_Child, dtype: int64\n"
     ]
    },
    {
     "data": {
      "image/png": "[encoded data removed]",
      "text/plain": [
       "<Figure size 432x288 with 1 Axes>"
      ]
     },
     "metadata": {
      "needs_background": "light"
     },
     "output_type": "display_data"
    },
    {
     "name": "stdout",
     "output_type": "stream",
     "text": [
      "0    868\n",
      "1     19\n",
      "Name: Age_categories_Young_Teenager, dtype: int64\n",
      "0    408\n",
      "1     10\n",
      "Name: Age_categories_Young_Teenager, dtype: int64\n"
     ]
    },
    {
     "data": {
      "image/png": "[encoded data removed]",
      "text/plain": [
       "<Figure size 432x288 with 1 Axes>"
      ]
     },
     "metadata": {
      "needs_background": "light"
     },
     "output_type": "display_data"
    },
    {
     "name": "stdout",
     "output_type": "stream",
     "text": [
      "0    831\n",
      "1     56\n",
      "Name: Age_categories_Teenager, dtype: int64\n",
      "0    396\n",
      "1     22\n",
      "Name: Age_categories_Teenager, dtype: int64\n"
     ]
    },
    {
     "data": {
      "image/png": "[encoded data removed]",
      "text/plain": [
       "<Figure size 432x288 with 1 Axes>"
      ]
     },
     "metadata": {
      "needs_background": "light"
     },
     "output_type": "display_data"
    },
    {
     "name": "stdout",
     "output_type": "stream",
     "text": [
      "0    727\n",
      "1    160\n",
      "Name: Age_categories_Young_Adult, dtype: int64\n",
      "0    330\n",
      "1     88\n",
      "Name: Age_categories_Young_Adult, dtype: int64\n"
     ]
    },
    {
     "data": {
      "image/png": "[encoded data removed]",
      "text/plain": [
       "<Figure size 432x288 with 1 Axes>"
      ]
     },
     "metadata": {
      "needs_background": "light"
     },
     "output_type": "display_data"
    },
    {
     "name": "stdout",
     "output_type": "stream",
     "text": [
      "0    691\n",
      "1    196\n",
      "Name: Age_categories_Adult, dtype: int64\n",
      "0    333\n",
      "1     85\n",
      "Name: Age_categories_Adult, dtype: int64\n"
     ]
    },
    {
     "data": {
      "image/png": "[encoded data removed]",
      "text/plain": [
       "<Figure size 432x288 with 1 Axes>"
      ]
     },
     "metadata": {
      "needs_background": "light"
     },
     "output_type": "display_data"
    },
    {
     "name": "stdout",
     "output_type": "stream",
     "text": [
      "0    692\n",
      "1    195\n",
      "Name: Age_categories_Older_Adult, dtype: int64\n",
      "0    324\n",
      "1     94\n",
      "Name: Age_categories_Older_Adult, dtype: int64\n"
     ]
    },
    {
     "data": {
      "image/png": "[encoded data removed]",
      "text/plain": [
       "<Figure size 432x288 with 1 Axes>"
      ]
     },
     "metadata": {
      "needs_background": "light"
     },
     "output_type": "display_data"
    },
    {
     "name": "stdout",
     "output_type": "stream",
     "text": [
      "0    865\n",
      "1     22\n",
      "Name: Age_categories_Senior, dtype: int64\n",
      "0    407\n",
      "1     11\n",
      "Name: Age_categories_Senior, dtype: int64\n"
     ]
    },
    {
     "data": {
      "image/png": "[encoded data removed]",
      "text/plain": [
       "<Figure size 432x288 with 1 Axes>"
      ]
     },
     "metadata": {
      "needs_background": "light"
     },
     "output_type": "display_data"
    },
    {
     "name": "stdout",
     "output_type": "stream",
     "text": [
      "0    722\n",
      "1    165\n",
      "Name: Embarked_C, dtype: int64\n",
      "0    316\n",
      "1    102\n",
      "Name: Embarked_C, dtype: int64\n"
     ]
    },
    {
     "data": {
      "image/png": "[encoded data removed]",
      "text/plain": [
       "<Figure size 432x288 with 1 Axes>"
      ]
     },
     "metadata": {
      "needs_background": "light"
     },
     "output_type": "display_data"
    },
    {
     "name": "stdout",
     "output_type": "stream",
     "text": [
      "0    810\n",
      "1     77\n",
      "Name: Embarked_Q, dtype: int64\n",
      "0    372\n",
      "1     46\n",
      "Name: Embarked_Q, dtype: int64\n"
     ]
    },
    {
     "data": {
      "image/png": "[encoded data removed]",
      "text/plain": [
       "<Figure size 432x288 with 1 Axes>"
      ]
     },
     "metadata": {
      "needs_background": "light"
     },
     "output_type": "display_data"
    },
    {
     "name": "stdout",
     "output_type": "stream",
     "text": [
      "1    645\n",
      "0    242\n",
      "Name: Embarked_S, dtype: int64\n",
      "1    270\n",
      "0    148\n",
      "Name: Embarked_S, dtype: int64\n"
     ]
    },
    {
     "data": {
      "image/png": "[encoded data removed]",
      "text/plain": [
       "<Figure size 432x288 with 1 Axes>"
      ]
     },
     "metadata": {
      "needs_background": "light"
     },
     "output_type": "display_data"
    },
    {
     "name": "stdout",
     "output_type": "stream",
     "text": [
      "0    573\n",
      "1    314\n",
      "Name: Sex_female, dtype: int64\n",
      "0    266\n",
      "1    152\n",
      "Name: Sex_female, dtype: int64\n"
     ]
    },
    {
     "data": {
      "image/png": "[encoded data removed]",
      "text/plain": [
       "<Figure size 432x288 with 1 Axes>"
      ]
     },
     "metadata": {
      "needs_background": "light"
     },
     "output_type": "display_data"
    }
   ],
   "source": [
    "for category in discrete:\n",
    "    print(train_data_cc[category].value_counts())\n",
    "    print(test_data_cc[category].value_counts())\n",
    "    pivot = train_data_cc.pivot_table(index=[category],values=label)\n",
    "    pivot.plot.bar()\n",
    "    plt.show()"
   ]
  },
  {
   "cell_type": "markdown",
   "metadata": {},
   "source": [
    "Data preprocessing is here done, just need to save the data before I start preparing the data for training, and doing the actual training:"
   ]
  },
  {
   "cell_type": "code",
   "execution_count": 28,
   "metadata": {},
   "outputs": [],
   "source": [
    "train_data_cc.to_csv(\"training_data.csv\", index=False)\n",
    "test_data_cc.to_csv(\"test_data.csv\", index=False)\n",
    "test_data_id.to_csv(\"test_ids.csv\", index=False)"
   ]
  },
  {
   "cell_type": "code",
   "execution_count": 29,
   "metadata": {},
   "outputs": [],
   "source": [
    "columns_all = list(test_data_cc.columns)"
   ]
  },
  {
   "cell_type": "code",
   "execution_count": 30,
   "metadata": {},
   "outputs": [],
   "source": [
    "train_data = pd.read_csv(\"training_data.csv\")\n",
    "test_data = pd.read_csv(\"test_data.csv\")\n",
    "test_ids = pd.read_csv(\"test_ids.csv\")"
   ]
  },
  {
   "cell_type": "markdown",
   "metadata": {},
   "source": [
    "Before I start training the models, that are some decisions to be made:\n",
    "\n",
    "1) Evaluation metrics - I decided to use cross validation on Stratified 10-Fold split. Another option was to split the data into the training and validation set, but I decided to go with the cross valdation on the whole training set, as the number of training instances is already pretty small.\n",
    "\n",
    "2) Scalling - Even though some models that am using do not need the data to be scaled, some algorithms do, so I am also scaling the data using the standard scaler."
   ]
  },
  {
   "cell_type": "code",
   "execution_count": 31,
   "metadata": {},
   "outputs": [],
   "source": [
    "label = \"Survived\"\n",
    "train_labels = train_data[label].copy()\n",
    "train_data.drop([label], axis = 1, inplace = True)"
   ]
  },
  {
   "cell_type": "code",
   "execution_count": 32,
   "metadata": {},
   "outputs": [],
   "source": [
    "from sklearn.model_selection import StratifiedKFold\n",
    "\n",
    "split = StratifiedKFold(n_splits=10, random_state=42)"
   ]
  },
  {
   "cell_type": "code",
   "execution_count": 33,
   "metadata": {},
   "outputs": [
    {
     "name": "stderr",
     "output_type": "stream",
     "text": [
      "/home/goracinski/.local/lib/python3.5/site-packages/sklearn/preprocessing/data.py:617: DataConversionWarning: Data with input dtype int64, float64 were all converted to float64 by StandardScaler.\n",
      "  return self.partial_fit(X, y)\n",
      "/home/goracinski/.local/lib/python3.5/site-packages/sklearn/base.py:462: DataConversionWarning: Data with input dtype int64, float64 were all converted to float64 by StandardScaler.\n",
      "  return self.fit(X, **fit_params).transform(X)\n",
      "/home/goracinski/.local/lib/python3.5/site-packages/sklearn/preprocessing/data.py:617: DataConversionWarning: Data with input dtype int64, float64 were all converted to float64 by StandardScaler.\n",
      "  return self.partial_fit(X, y)\n",
      "/home/goracinski/.local/lib/python3.5/site-packages/sklearn/base.py:462: DataConversionWarning: Data with input dtype int64, float64 were all converted to float64 by StandardScaler.\n",
      "  return self.fit(X, **fit_params).transform(X)\n"
     ]
    }
   ],
   "source": [
    "from sklearn.preprocessing import StandardScaler\n",
    "\n",
    "scaler = StandardScaler()\n",
    "\n",
    "training_set = scaler.fit_transform(train_data)\n",
    "test_set = scaler.fit_transform(test_data)"
   ]
  },
  {
   "cell_type": "markdown",
   "metadata": {},
   "source": [
    "I will now train models, following the course of the \"Hands-on Machine learning with SciKit-Learn and Tensorflow\" book. Models that will be used are:\n",
    "\n",
    "1) Logistic Regression\n",
    "\n",
    "2) SVM - Linear, RBF, Poly kernels\n",
    "\n",
    "3) Decision Tree Clasifier\n",
    "\n",
    "ensemble models:\n",
    "\n",
    "4) Random Forest Classifier\n",
    "\n",
    "5) Voting Classifier\n",
    "\n",
    "6) Ada Boost Classifier\n",
    "\n",
    "7) Gradient Boosting Classifier\n",
    "\n",
    "8) XGBoost Classifier - Not in the book\n",
    "\n",
    "I would also do parameter tuning for those models that have interesting hyperparameters. I am not using the GridSearch, nor am I using any special guide for parameter tuning for all of the models except for te XGBoost. Instead, I would just manually change the parameters values and see what kind of effect it has on the model's accuracy. I am doing it in such way in order to build better intuition on these parameters. For some of the models, only one value per parameter can be seen. These paramteres were chosen during the tuning process, and the process itself is not presented in the notebook.\n",
    "\n",
    "Each of the models will then be saved, its submission sent to the Kaggle website, and the accuracy that it actually achieved on the test set will be written here."
   ]
  },
  {
   "cell_type": "markdown",
   "metadata": {},
   "source": [
    "# First model is the simple Logistic regression:"
   ]
  },
  {
   "cell_type": "code",
   "execution_count": 33,
   "metadata": {},
   "outputs": [
    {
     "name": "stdout",
     "output_type": "stream",
     "text": [
      "Accuracy of Logistic regression classifier on the training set: 0.820802406083305 with the standard deviation of: 0.036870870468163515\n"
     ]
    }
   ],
   "source": [
    "from sklearn.linear_model import LogisticRegression\n",
    "from sklearn import model_selection\n",
    "\n",
    "logreg = LogisticRegression()\n",
    "logreg.fit(training_set, train_labels)\n",
    "scoring = 'accuracy'\n",
    "\n",
    "result = model_selection.cross_val_score(logreg, training_set, train_labels, cv=split, scoring=scoring)\n",
    "print('Accuracy of Logistic regression classifier on the training set:',result.mean(),'with the standard deviation of:', result.std())"
   ]
  },
  {
   "cell_type": "code",
   "execution_count": 34,
   "metadata": {},
   "outputs": [],
   "source": [
    "# This part is in charge of making the predictions, and saving the in the .csv file, in the format required\n",
    "# in order to submit them\n",
    "\n",
    "from sklearn.externals import joblib\n",
    "\n",
    "joblib.dump(logreg, \"logreg.pkl\")\n",
    "\n",
    "predictions = logreg.predict(test_set)\n",
    "submission = pd.DataFrame()\n",
    "submission[\"PassengerId\"] = test_data_id\n",
    "submission[\"Survived\"] = predictions\n",
    "submission.to_csv(\"submission_logreg.csv\", index=False)\n",
    "# 0.76555"
   ]
  },
  {
   "cell_type": "markdown",
   "metadata": {},
   "source": [
    "# Below are the SVC with the linear, rbf and the polynomial kernels, alongside their hyperparameters that showed the best accuracy:"
   ]
  },
  {
   "cell_type": "markdown",
   "metadata": {},
   "source": [
    "SVC Linear"
   ]
  },
  {
   "cell_type": "code",
   "execution_count": 35,
   "metadata": {},
   "outputs": [
    {
     "name": "stdout",
     "output_type": "stream",
     "text": [
      "Accuracy of SVM Linear classifier on the training set: 0.8150700828509818 with the standard deviation of: 0.0250740851145042\n",
      "0.2\n"
     ]
    }
   ],
   "source": [
    "from sklearn.svm import SVC\n",
    "\n",
    "for C in [0.2]:\n",
    "    svm_linear = SVC(kernel = \"linear\", C = C)\n",
    "    svm_linear.fit(training_set, train_labels)\n",
    "    result = model_selection.cross_val_score(svm_linear, training_set, train_labels, cv=split, scoring=scoring)\n",
    "    print('Accuracy of SVM Linear classifier on the training set:',result.mean(),'with the standard deviation of:', result.std())\n",
    "    print(C)"
   ]
  },
  {
   "cell_type": "code",
   "execution_count": 36,
   "metadata": {},
   "outputs": [
    {
     "data": {
      "text/plain": [
       "['svm_linear.pkl']"
      ]
     },
     "execution_count": 36,
     "metadata": {},
     "output_type": "execute_result"
    }
   ],
   "source": [
    "from sklearn.externals import joblib\n",
    "\n",
    "joblib.dump(svm_linear, \"svm_linear.pkl\")\n",
    "\n",
    "# This model was not submitted due to its accuracy not achiving some satisfiyng results"
   ]
  },
  {
   "cell_type": "markdown",
   "metadata": {},
   "source": [
    "SVC RBF"
   ]
  },
  {
   "cell_type": "code",
   "execution_count": 37,
   "metadata": {},
   "outputs": [
    {
     "name": "stdout",
     "output_type": "stream",
     "text": [
      "\n",
      "0.18 0.01\n",
      "Accuracy of SVM RBF classifier on the training set: 0.83080 with the standard deviation of: 0.03383\n"
     ]
    }
   ],
   "source": [
    "#for C in [0.15, 0.16, 0.17, 0.18, 0.19, 0.2, 0.21, 0.22, 0.23, 0.24, 0.25]:\n",
    "for C in [0.18]:\n",
    "    print()\n",
    "    for gamma in [1e-2]:\n",
    "        svm_rbf = SVC(kernel = \"rbf\", C = C, gamma = gamma)\n",
    "        svm_rbf.fit(training_set, train_labels)\n",
    "        result = model_selection.cross_val_score(svm_rbf, training_set, train_labels, cv=split, scoring=scoring)\n",
    "        print(C, gamma)\n",
    "        print('Accuracy of SVM RBF classifier on the training set: {:.5f}'.format(result.mean()),'with the standard deviation of: {:.5f}'.format(result.std()))\n",
    "        "
   ]
  },
  {
   "cell_type": "code",
   "execution_count": 38,
   "metadata": {},
   "outputs": [],
   "source": [
    "from sklearn.externals import joblib\n",
    "\n",
    "joblib.dump(svm_rbf, \"svm_rbf.pkl\")\n",
    "\n",
    "predictions = svm_rbf.predict(test_set)\n",
    "submission = pd.DataFrame()\n",
    "submission[\"PassengerId\"] = test_data_id\n",
    "submission[\"Survived\"] = predictions\n",
    "submission.to_csv(\"submission_svm_rbf.csv\", index=False)\n",
    "# 0.78468"
   ]
  },
  {
   "cell_type": "markdown",
   "metadata": {},
   "source": [
    "SVC Polynomial"
   ]
  },
  {
   "cell_type": "code",
   "execution_count": 39,
   "metadata": {},
   "outputs": [
    {
     "name": "stdout",
     "output_type": "stream",
     "text": [
      "\n",
      "0.2 0.01 1\n",
      "Accuracy of SVM Poly classifier on the training set: 0.82857 with the standard deviation of: 0.03094\n"
     ]
    }
   ],
   "source": [
    "for C in [0.2]:\n",
    "    print()\n",
    "    for gamma in [1e-2]:\n",
    "        for degree in [1]:\n",
    "            svm_poly = SVC(kernel = \"poly\", C = C, gamma = gamma, degree = degree)\n",
    "            svm_poly.fit(training_set, train_labels)\n",
    "            result = model_selection.cross_val_score(svm_poly, training_set, train_labels, cv=split, scoring=scoring)\n",
    "            print(C, gamma, degree)\n",
    "            print('Accuracy of SVM Poly classifier on the training set: {:.5f}'.format(result.mean()),'with the standard deviation of: {:.5f}'.format(result.std()))"
   ]
  },
  {
   "cell_type": "code",
   "execution_count": 40,
   "metadata": {},
   "outputs": [],
   "source": [
    "from sklearn.externals import joblib\n",
    "\n",
    "joblib.dump(svm_poly, \"svm_poly.pkl\")\n",
    "\n",
    "predictions = svm_poly.predict(test_set)\n",
    "submission = pd.DataFrame()\n",
    "submission[\"PassengerId\"] = test_data_id\n",
    "submission[\"Survived\"] = predictions\n",
    "submission.to_csv(\"submission_svm_poly.csv\", index=False)\n",
    "# 0.78468"
   ]
  },
  {
   "cell_type": "markdown",
   "metadata": {},
   "source": [
    "# Decision Tree Classifier:"
   ]
  },
  {
   "cell_type": "code",
   "execution_count": 41,
   "metadata": {},
   "outputs": [
    {
     "name": "stdout",
     "output_type": "stream",
     "text": [
      "\n",
      "4 13\n",
      "Accuracy of DecisionTreeClassifier on the training set: 0.83426 with the standard deviation of: 0.03226\n"
     ]
    }
   ],
   "source": [
    "from sklearn.tree import DecisionTreeClassifier\n",
    "\n",
    "for max_depth in [4]:\n",
    "    print()\n",
    "    for max_features in [13]:\n",
    "        dtree = DecisionTreeClassifier(max_depth = max_depth, max_features = max_features, random_state = 13)\n",
    "        dtree.fit(training_set, train_labels)\n",
    "        result = model_selection.cross_val_score(dtree, training_set, train_labels, cv=split, scoring=scoring)\n",
    "        print(max_depth, max_features)\n",
    "        print('Accuracy of DecisionTreeClassifier on the training set: {:.5f}'.format(result.mean()),'with the standard deviation of: {:.5f}'.format(result.std()))\n",
    "        "
   ]
  },
  {
   "cell_type": "code",
   "execution_count": 42,
   "metadata": {},
   "outputs": [],
   "source": [
    "from sklearn.externals import joblib\n",
    "\n",
    "joblib.dump(dtree, \"dtree.pkl\")\n",
    "\n",
    "predictions = dtree.predict(test_set)\n",
    "submission = pd.DataFrame()\n",
    "submission[\"PassengerId\"] = test_data_id\n",
    "submission[\"Survived\"] = predictions\n",
    "submission.to_csv(\"submission_dtree.csv\", index=False)\n",
    "# 0.77990"
   ]
  },
  {
   "cell_type": "code",
   "execution_count": 43,
   "metadata": {},
   "outputs": [],
   "source": [
    "from sklearn.tree import export_graphviz\n",
    "\n",
    "export_graphviz(dtree,\n",
    "        out_file=\"titanic_tree.dot\",\n",
    "        feature_names=list(columns_all),\n",
    "        class_names=label,\n",
    "        rounded=True,\n",
    "        filled=True\n",
    ")"
   ]
  },
  {
   "cell_type": "markdown",
   "metadata": {},
   "source": [
    "Parameter tuning for the ensemble algorithms are done in 2 parts:\n",
    "\n",
    "1) One cell would be used for parameter tuning\n",
    "\n",
    "2) The other cell for early stopping, where all the parameters have constant values except for the number of estimators. Its value is gradually increased, and once there is no improvement for the last 20-50 (this parameter can be changed) iterations, cell is stopped, and the best n_estimator parameter is printed.\n",
    "\n",
    "Exception is the Voting Classifier, as there was no parameter tuning in the classifier itself, but rather, all the models that the ensemble would use, would already be initialised with the best values found for each of the clasifier inside the voting ensemble."
   ]
  },
  {
   "cell_type": "markdown",
   "metadata": {},
   "source": [
    "# Random Forrest Classifier"
   ]
  },
  {
   "cell_type": "code",
   "execution_count": 44,
   "metadata": {},
   "outputs": [
    {
     "name": "stdout",
     "output_type": "stream",
     "text": [
      "max_depth: 4 estimators: 100 max_features: 13 min_samples_leaf: 3 min_samples_split: 2 bootstrap: False\n",
      "Accuracy of Random Forrest classifier on the training set: 0.83876 with the standard deviation of: 0.03314\n"
     ]
    }
   ],
   "source": [
    "# Parameter tuning\n",
    "from sklearn.ensemble import RandomForestClassifier\n",
    "\n",
    "nestimators = range(1, 11, 1)\n",
    "depths = range(2, 15, 1)\n",
    "max_featuress = ['auto', 'sqrt']\n",
    "min_samples_leafs = [1, 2, 4, 8, 16]\n",
    "min_samples_splits = range(2, 15, 1)\n",
    "bootstraps = [True, False]\n",
    "for max_depth in [4]:\n",
    "    for n_estimators in [100]:\n",
    "        for max_features in [13]:\n",
    "            for min_samples_leaf in [3]:\n",
    "                for min_samples_split in [2]:\n",
    "                    for bootstrap in [False]:\n",
    "                        rf = RandomForestClassifier(max_depth = max_depth, n_estimators = n_estimators, n_jobs = -1,\n",
    "                                                       max_features=max_features, min_samples_leaf = min_samples_leaf,\n",
    "                                                       min_samples_split = min_samples_split,bootstrap = bootstrap,\n",
    "                                                       random_state = 13)\n",
    "\n",
    "                        rf.fit(training_set, train_labels)\n",
    "\n",
    "                        result = model_selection.cross_val_score(rf, training_set, train_labels, cv=split, scoring=scoring)\n",
    "                        print('max_depth:',max_depth,'estimators:', n_estimators,'max_features:', max_features,'min_samples_leaf:',\n",
    "                              min_samples_leaf,'min_samples_split:',min_samples_split,'bootstrap:', bootstrap)\n",
    "                        print('Accuracy of Random Forrest classifier on the training set: {:.5f}'.format(result.mean()),'with the standard deviation of: {:.5f}'.format(result.std()))"
   ]
  },
  {
   "cell_type": "code",
   "execution_count": 45,
   "metadata": {},
   "outputs": [
    {
     "data": {
      "text/plain": [
       "'\\nmax_val_accuracy = 0.0\\naccuracy_going_down = 0\\n\\nnestimators = range(1, 11, 1)\\ndepths = range(2, 15, 1)\\nmax_featuress = [\\'auto\\', \\'sqrt\\']\\nmin_samples_leafs = [1, 2, 4, 8, 16]\\nmin_samples_splits = range(2, 15, 1)\\nbootstraps = [True, False]\\nfor n_estimators in range(1, 10000):\\n    rf = RandomForestClassifier(max_depth = 5, n_estimators = n_estimators, n_jobs = -1,\\n                                   max_features=10, min_samples_leaf = 2,\\n                                   min_samples_split = 12,bootstrap = \\'False\\',random_state = 13)\\n\\n    rf.fit(training_set, train_labels)\\n\\n    result = model_selection.cross_val_score(rf, training_set, train_labels, cv=split, scoring=scoring)\\n    print(\\'max_depth:\\',max_depth,\\'estimators:\\', n_estimators,\\'max_features:\\', max_features,\\'min_samples_leaf:\\',\\n          min_samples_leaf,\\'min_samples_split:\\',min_samples_split,\\'bootstrap:\\', bootstrap)\\n    print(\\'Accuracy of Random Forrest classifier on the training set: {:.5f}\\'.format(result.mean()),\\'with the standard deviation of: {:.5f}\\'.format(result.std()))\\n    val_accuracy = result.mean()\\n    print(max_val_accuracy, val_accuracy)\\n    print()\\n    if val_accuracy > max_val_accuracy:\\n        max_val_accuracy = val_accuracy\\n        accuracy_going_down = 0\\n    else:\\n        accuracy_going_down += 1\\n        if accuracy_going_down == 50:\\n            print(\"Early stopping point reached, best validation accuracy for n_estimators =\", n_estimators-50)\\n            break\\n            \\n'"
      ]
     },
     "execution_count": 45,
     "metadata": {},
     "output_type": "execute_result"
    }
   ],
   "source": [
    "# Early Stopping\n",
    "'''\n",
    "max_val_accuracy = 0.0\n",
    "accuracy_going_down = 0\n",
    "\n",
    "nestimators = range(1, 11, 1)\n",
    "depths = range(2, 15, 1)\n",
    "max_featuress = ['auto', 'sqrt']\n",
    "min_samples_leafs = [1, 2, 4, 8, 16]\n",
    "min_samples_splits = range(2, 15, 1)\n",
    "bootstraps = [True, False]\n",
    "for n_estimators in range(1, 10000):\n",
    "    rf = RandomForestClassifier(max_depth = 5, n_estimators = n_estimators, n_jobs = -1,\n",
    "                                   max_features=10, min_samples_leaf = 2,\n",
    "                                   min_samples_split = 12,bootstrap = 'False',random_state = 13)\n",
    "\n",
    "    rf.fit(training_set, train_labels)\n",
    "\n",
    "    result = model_selection.cross_val_score(rf, training_set, train_labels, cv=split, scoring=scoring)\n",
    "    print('max_depth:',max_depth,'estimators:', n_estimators,'max_features:', max_features,'min_samples_leaf:',\n",
    "          min_samples_leaf,'min_samples_split:',min_samples_split,'bootstrap:', bootstrap)\n",
    "    print('Accuracy of Random Forrest classifier on the training set: {:.5f}'.format(result.mean()),'with the standard deviation of: {:.5f}'.format(result.std()))\n",
    "    val_accuracy = result.mean()\n",
    "    print(max_val_accuracy, val_accuracy)\n",
    "    print()\n",
    "    if val_accuracy > max_val_accuracy:\n",
    "        max_val_accuracy = val_accuracy\n",
    "        accuracy_going_down = 0\n",
    "    else:\n",
    "        accuracy_going_down += 1\n",
    "        if accuracy_going_down == 50:\n",
    "            print(\"Early stopping point reached, best validation accuracy for n_estimators =\", n_estimators-50)\n",
    "            break\n",
    "            \n",
    "'''"
   ]
  },
  {
   "cell_type": "code",
   "execution_count": 46,
   "metadata": {},
   "outputs": [],
   "source": [
    "from sklearn.externals import joblib\n",
    "\n",
    "joblib.dump(rf, \"rf.pkl\")\n",
    "\n",
    "predictions = rf.predict(test_set)\n",
    "submission = pd.DataFrame()\n",
    "submission[\"PassengerId\"] = test_data_id\n",
    "submission[\"Survived\"] = predictions\n",
    "submission.to_csv(\"submission_rf.csv\", index=False)\n",
    "# 0.79425"
   ]
  },
  {
   "cell_type": "markdown",
   "metadata": {},
   "source": [
    "# Voting Classifier :\n",
    "Using LDA, KNN, Logistic Regression, Random Forest and RBF SVC"
   ]
  },
  {
   "cell_type": "code",
   "execution_count": 47,
   "metadata": {},
   "outputs": [
    {
     "name": "stdout",
     "output_type": "stream",
     "text": [
      "LinearDiscriminantAnalysis , training set accuracy: 0.82416 , 0.03098\n",
      "KNeighborsClassifier , training set accuracy: 0.79608 , 0.02807\n",
      "LogisticRegression , training set accuracy: 0.82080 , 0.03687\n",
      "RandomForestClassifier , training set accuracy: 0.82970 , 0.03232\n",
      "SVC , training set accuracy: 0.83080 , 0.03383\n",
      "VotingClassifier , training set accuracy: 0.82862 , 0.03494\n"
     ]
    }
   ],
   "source": [
    "# Voting Classifier\n",
    "warnings.filterwarnings(\"ignore\", category=UserWarning)\n",
    "from sklearn.ensemble import RandomForestClassifier\n",
    "from sklearn.ensemble import VotingClassifier\n",
    "from sklearn.linear_model import LogisticRegression\n",
    "from sklearn.svm import SVC\n",
    "from sklearn.neighbors import KNeighborsClassifier\n",
    "from sklearn.discriminant_analysis import LinearDiscriminantAnalysis\n",
    "\n",
    "lda_clf = LinearDiscriminantAnalysis()\n",
    "knn_clf = KNeighborsClassifier()\n",
    "log_clf = LogisticRegression()\n",
    "rnd_clf = RandomForestClassifier(max_depth = 4, n_estimators = 100, n_jobs = -1,\n",
    "                                   max_features=13, min_samples_leaf = 3,\n",
    "                                   min_samples_split = 2,bootstrap = 'False',random_state = 13)\n",
    "svm_clf = SVC(kernel = \"rbf\", C=0.18, gamma = 0.01, probability = True)\n",
    "\n",
    "voting_clf = VotingClassifier(estimators=[('lr', log_clf), ('rf', rnd_clf), ('svc', svm_clf),\n",
    "                                         ('lda',lda_clf),('knn',knn_clf)], voting='soft')\n",
    "\n",
    "for clf in (lda_clf, knn_clf, log_clf, rnd_clf, svm_clf, voting_clf):\n",
    "    \n",
    "    clf.fit(training_set, train_labels)\n",
    "    \n",
    "    result = model_selection.cross_val_score(clf, training_set, train_labels, cv=split, scoring=scoring)\n",
    "    \n",
    "    print(clf.__class__.__name__, \", training set accuracy: {:.5f}\".format(result.mean()), \", {:.5f}\".format(result.std()))"
   ]
  },
  {
   "cell_type": "code",
   "execution_count": 48,
   "metadata": {},
   "outputs": [
    {
     "data": {
      "text/plain": [
       "['voting.pkl']"
      ]
     },
     "execution_count": 48,
     "metadata": {},
     "output_type": "execute_result"
    }
   ],
   "source": [
    "from sklearn.externals import joblib\n",
    "\n",
    "joblib.dump(clf, \"voting.pkl\")\n",
    "\n",
    "# Accuracy is not very good, so I am not submitting the classifier#s solution"
   ]
  },
  {
   "cell_type": "markdown",
   "metadata": {},
   "source": [
    "# AdaBoost Classifier"
   ]
  },
  {
   "cell_type": "code",
   "execution_count": 49,
   "metadata": {},
   "outputs": [
    {
     "name": "stdout",
     "output_type": "stream",
     "text": [
      "5 20\n",
      "Accuracy of AdaBoostClassifier on the training set: 0.82864 with the standard deviation of: 0.03822\n"
     ]
    }
   ],
   "source": [
    "# Parameter Tuning - I observed that Early Stopping is not neccessary, as the best accuracy was achieved for \n",
    "# the lower values of n_estimators parameter\n",
    "from sklearn.ensemble import AdaBoostClassifier\n",
    "for max_depth in [5]:\n",
    "    for n_estimators in [20]:\n",
    "        ada_clf = AdaBoostClassifier(DecisionTreeClassifier(max_depth=max_depth), n_estimators=n_estimators,\n",
    "                                     algorithm=\"SAMME.R\", learning_rate=0.01)\n",
    "\n",
    "        ada_clf.fit(training_set, train_labels)\n",
    "\n",
    "        result = model_selection.cross_val_score(ada_clf, training_set, train_labels, cv=split, scoring=scoring)\n",
    "        print(max_depth, n_estimators)\n",
    "        print('Accuracy of AdaBoostClassifier on the training set: {:.5f}'.format(result.mean()),'with the standard deviation of: {:.5f}'.format(result.std()))"
   ]
  },
  {
   "cell_type": "code",
   "execution_count": 50,
   "metadata": {},
   "outputs": [],
   "source": [
    "from sklearn.externals import joblib\n",
    "\n",
    "joblib.dump(ada_clf, \"ada_clf.pkl\")\n",
    "\n",
    "predictions = ada_clf.predict(test_set)\n",
    "submission = pd.DataFrame()\n",
    "submission[\"PassengerId\"] = test_data_id\n",
    "submission[\"Survived\"] = predictions\n",
    "submission.to_csv(\"submission_ada_clf.csv\", index=False)\n",
    "# 0.77511"
   ]
  },
  {
   "cell_type": "markdown",
   "metadata": {},
   "source": [
    "# Gradient Boosting Classifier"
   ]
  },
  {
   "cell_type": "code",
   "execution_count": 51,
   "metadata": {},
   "outputs": [
    {
     "name": "stdout",
     "output_type": "stream",
     "text": [
      "12\n",
      "Accuracy of GradientBoostingClassifier on the training set: 0.82748 with the standard deviation of: 0.03148\n",
      "\n"
     ]
    }
   ],
   "source": [
    "# Parameter Tuning\n",
    "from sklearn.ensemble import GradientBoostingClassifier\n",
    "\n",
    "\n",
    "for min_samples_leaf in [12]:\n",
    "    gb_clf = GradientBoostingClassifier(max_depth=3,learning_rate = 0.01,  \n",
    "                                        n_estimators = 650, random_state = 17, max_features=13,\n",
    "                                        subsample=0.3, min_samples_split = 38,\n",
    "                                        min_samples_leaf=min_samples_leaf)\n",
    "    \n",
    "    gb_clf.fit(training_set, train_labels)\n",
    "    \n",
    "    result = model_selection.cross_val_score(gb_clf, training_set, train_labels, cv=split, scoring=scoring)\n",
    "    \n",
    "    print(min_samples_leaf)\n",
    "    print('Accuracy of GradientBoostingClassifier on the training set: {:.5f}'.format(result.mean()),'with the standard deviation of: {:.5f}'.format(result.std()))\n",
    "    print()"
   ]
  },
  {
   "cell_type": "code",
   "execution_count": 52,
   "metadata": {},
   "outputs": [
    {
     "data": {
      "text/plain": [
       "'\\nfrom sklearn.ensemble import GradientBoostingClassifier\\n\\nmax_val_accuracy = 0.0\\naccuracy_going_down = 0\\n\\nfor n_estimators in range(10, 10000,10):\\n    gb_clf = GradientBoostingClassifier(max_depth=3,learning_rate = 0.01,  \\n                                        n_estimators = n_estimators, random_state = 17, max_features=13,\\n                                        subsample=0.3, min_samples_split = 38,\\n                                        min_samples_leaf=12)\\n    gb_clf.fit(training_set, train_labels)\\n    \\n    result = model_selection.cross_val_score(gb_clf, training_set, train_labels, cv=split, scoring=scoring)\\n    \\n    print(n_estimators)\\n    print(\\'Accuracy of GradientBoostingClassifier on the training set: {:.5f}\\'.format(result.mean()),\\'with the standard deviation of: {:.5f}\\'.format(result.std()))\\n    print()\\n    val_accuracy = result.mean()\\n    if val_accuracy > max_val_accuracy:\\n        max_val_accuracy = val_accuracy\\n        accuracy_going_down = 0\\n    else:\\n        accuracy_going_down += 1\\n        if accuracy_going_down == 20:\\n            print(\"Early stopping point reached, best validation accuracy for n_estimators =\", n_estimators-200)\\n            break # early stopping\\n            \\n'"
      ]
     },
     "execution_count": 52,
     "metadata": {},
     "output_type": "execute_result"
    }
   ],
   "source": [
    "# Early Stopping\n",
    "'''\n",
    "from sklearn.ensemble import GradientBoostingClassifier\n",
    "\n",
    "max_val_accuracy = 0.0\n",
    "accuracy_going_down = 0\n",
    "\n",
    "for n_estimators in range(10, 10000,10):\n",
    "    gb_clf = GradientBoostingClassifier(max_depth=3,learning_rate = 0.01,  \n",
    "                                        n_estimators = n_estimators, random_state = 17, max_features=13,\n",
    "                                        subsample=0.3, min_samples_split = 38,\n",
    "                                        min_samples_leaf=12)\n",
    "    gb_clf.fit(training_set, train_labels)\n",
    "    \n",
    "    result = model_selection.cross_val_score(gb_clf, training_set, train_labels, cv=split, scoring=scoring)\n",
    "    \n",
    "    print(n_estimators)\n",
    "    print('Accuracy of GradientBoostingClassifier on the training set: {:.5f}'.format(result.mean()),'with the standard deviation of: {:.5f}'.format(result.std()))\n",
    "    print()\n",
    "    val_accuracy = result.mean()\n",
    "    if val_accuracy > max_val_accuracy:\n",
    "        max_val_accuracy = val_accuracy\n",
    "        accuracy_going_down = 0\n",
    "    else:\n",
    "        accuracy_going_down += 1\n",
    "        if accuracy_going_down == 20:\n",
    "            print(\"Early stopping point reached, best validation accuracy for n_estimators =\", n_estimators-200)\n",
    "            break # early stopping\n",
    "            \n",
    "'''"
   ]
  },
  {
   "cell_type": "code",
   "execution_count": 53,
   "metadata": {},
   "outputs": [],
   "source": [
    "from sklearn.externals import joblib\n",
    "\n",
    "joblib.dump(gb_clf, \"gb_clf.pkl\")\n",
    "\n",
    "predictions = gb_clf.predict(test_set)\n",
    "submission = pd.DataFrame()\n",
    "submission[\"PassengerId\"] = test_data_id\n",
    "submission[\"Survived\"] = predictions\n",
    "submission.to_csv(\"submission_gb_clf.csv\", index=False)\n",
    "\n",
    "# 0.75598"
   ]
  },
  {
   "cell_type": "markdown",
   "metadata": {},
   "source": [
    "# XGBoost Classifier"
   ]
  },
  {
   "cell_type": "markdown",
   "metadata": {},
   "source": [
    "The last algorithm is XGBoost Classifier that was not presented in the book, but is a very popular algorithm, and has a lot of good tutorials on how to use it. I used a tutorial online for tuning the parameters of the XGBoost. The link of the tutorial:\n",
    "\n",
    "https://www.analyticsvidhya.com/blog/2016/03/complete-guide-parameter-tuning-xgboost-with-codes-python/"
   ]
  },
  {
   "cell_type": "code",
   "execution_count": 54,
   "metadata": {},
   "outputs": [
    {
     "name": "stdout",
     "output_type": "stream",
     "text": [
      "0.001\n",
      "Accuracy of Random Forrest classifier on the training set: 0.84103 with the standard deviation of: 0.04043\n",
      "\n"
     ]
    }
   ],
   "source": [
    "# Parameter tuning\n",
    "\n",
    "from xgboost.sklearn import XGBClassifier\n",
    "\n",
    "\n",
    "for reg_alpha in [1e-3]:\n",
    "    #for colsample_bytree in [i/100.0 for i in range(75, 86)]:\n",
    "    xgb_clf = XGBClassifier(learning_rate =0.1,\n",
    "                         n_estimators=37,\n",
    "                         max_depth=5,\n",
    "                         min_child_weight=1,\n",
    "                         gamma=1e-2,\n",
    "                         reg_alpha = 1e-3,\n",
    "                         subsample=0.8,\n",
    "                         colsample_bytree=0.8,\n",
    "                         objective= 'binary:logistic',\n",
    "                         nthread=-1,\n",
    "                         scale_pos_weight=1,\n",
    "                         seed=27)\n",
    "\n",
    "    xgb_clf.fit(training_set, train_labels)\n",
    "\n",
    "    result = model_selection.cross_val_score(xgb_clf, training_set, train_labels, cv=split, scoring=scoring)\n",
    "\n",
    "    print(reg_alpha)\n",
    "    print('Accuracy of Random Forrest classifier on the training set: {:.5f}'.format(result.mean()),'with the standard deviation of: {:.5f}'.format(result.std()))\n",
    "    print()"
   ]
  },
  {
   "cell_type": "code",
   "execution_count": 55,
   "metadata": {},
   "outputs": [
    {
     "data": {
      "text/plain": [
       "'\\nfrom xgboost.sklearn import XGBClassifier\\n\\nmax_val_accuracy = 0.0\\naccuracy_going_down = 0\\n\\nfor n_estimators in range(10, 10000, 10):\\n    xgb_clf = XGBClassifier(learning_rate =0.01,\\n                         n_estimators=n_estimators,\\n                         max_depth=5,\\n                         min_child_weight=1,\\n                         gamma=1e-2,\\n                         reg_alpha = 1e-3,\\n                         subsample=0.8,\\n                         colsample_bytree=0.8,\\n                         objective= \\'binary:logistic\\',\\n                         nthread=-1,\\n                         scale_pos_weight=1,\\n                         seed=27)\\n    xgb_clf.fit(training_set, train_labels)\\n    \\n    result = model_selection.cross_val_score(xgb_clf, training_set, train_labels, cv=split, scoring=scoring)\\n    \\n    print(n_estimators)\\n    print(\\'Accuracy of Random Forrest classifier on the training set: {:.5f}\\'.format(result.mean()),\\'with the standard deviation of: {:.5f}\\'.format(result.std()))\\n    print()\\n    val_accuracy = result.mean()\\n    if val_accuracy > max_val_accuracy:\\n        max_val_accuracy = val_accuracy\\n        accuracy_going_down = 0\\n    else:\\n        accuracy_going_down += 1\\n        if accuracy_going_down == 30:\\n            print(\"Early stopping point reached, best validation accuracy for n_estimators =\", n_estimators-300)\\n            break # early stopping\\n            \\n'"
      ]
     },
     "execution_count": 55,
     "metadata": {},
     "output_type": "execute_result"
    }
   ],
   "source": [
    "# Early Stopping\n",
    "'''\n",
    "from xgboost.sklearn import XGBClassifier\n",
    "\n",
    "max_val_accuracy = 0.0\n",
    "accuracy_going_down = 0\n",
    "\n",
    "for n_estimators in range(10, 10000, 10):\n",
    "    xgb_clf = XGBClassifier(learning_rate =0.01,\n",
    "                         n_estimators=n_estimators,\n",
    "                         max_depth=5,\n",
    "                         min_child_weight=1,\n",
    "                         gamma=1e-2,\n",
    "                         reg_alpha = 1e-3,\n",
    "                         subsample=0.8,\n",
    "                         colsample_bytree=0.8,\n",
    "                         objective= 'binary:logistic',\n",
    "                         nthread=-1,\n",
    "                         scale_pos_weight=1,\n",
    "                         seed=27)\n",
    "    xgb_clf.fit(training_set, train_labels)\n",
    "    \n",
    "    result = model_selection.cross_val_score(xgb_clf, training_set, train_labels, cv=split, scoring=scoring)\n",
    "    \n",
    "    print(n_estimators)\n",
    "    print('Accuracy of Random Forrest classifier on the training set: {:.5f}'.format(result.mean()),'with the standard deviation of: {:.5f}'.format(result.std()))\n",
    "    print()\n",
    "    val_accuracy = result.mean()\n",
    "    if val_accuracy > max_val_accuracy:\n",
    "        max_val_accuracy = val_accuracy\n",
    "        accuracy_going_down = 0\n",
    "    else:\n",
    "        accuracy_going_down += 1\n",
    "        if accuracy_going_down == 30:\n",
    "            print(\"Early stopping point reached, best validation accuracy for n_estimators =\", n_estimators-300)\n",
    "            break # early stopping\n",
    "            \n",
    "'''"
   ]
  },
  {
   "cell_type": "markdown",
   "metadata": {},
   "source": [
    "Final Model:"
   ]
  },
  {
   "cell_type": "code",
   "execution_count": 56,
   "metadata": {},
   "outputs": [
    {
     "name": "stdout",
     "output_type": "stream",
     "text": [
      "0.001\n",
      "Accuracy of Random Forrest classifier on the training set: 0.83657 with the standard deviation of: 0.04231\n",
      "\n"
     ]
    }
   ],
   "source": [
    "xgb_clf = XGBClassifier(learning_rate =0.01,\n",
    "                         n_estimators=320,\n",
    "                         max_depth=5,\n",
    "                         min_child_weight=1,\n",
    "                         gamma=1e-2,\n",
    "                         reg_alpha = 1e-3,\n",
    "                         subsample=0.8,\n",
    "                         colsample_bytree=0.8,\n",
    "                         objective= 'binary:logistic',\n",
    "                         nthread=-1,\n",
    "                         scale_pos_weight=1,\n",
    "                         seed=27)\n",
    "\n",
    "xgb_clf.fit(training_set, train_labels)\n",
    "\n",
    "result = model_selection.cross_val_score(xgb_clf, training_set, train_labels, cv=split, scoring=scoring)\n",
    "\n",
    "print(reg_alpha)\n",
    "print('Accuracy of Random Forrest classifier on the training set: {:.5f}'.format(result.mean()),'with the standard deviation of: {:.5f}'.format(result.std()))\n",
    "print()"
   ]
  },
  {
   "cell_type": "code",
   "execution_count": 57,
   "metadata": {},
   "outputs": [],
   "source": [
    "from sklearn.externals import joblib\n",
    "\n",
    "joblib.dump(xgb_clf, \"xgb_clf.pkl\")\n",
    "\n",
    "predictions = xgb_clf.predict(test_set)\n",
    "submission = pd.DataFrame()\n",
    "submission[\"PassengerId\"] = test_data_id\n",
    "submission[\"Survived\"] = predictions\n",
    "submission.to_csv(\"submission_xgb_clf.csv\", index=False)\n",
    "\n",
    "# 0.78468"
   ]
  }
 ],
 "metadata": {
  "kernelspec": {
   "display_name": "Python 3",
   "language": "python",
   "name": "python3"
  },
  "language_info": {
   "codemirror_mode": {
    "name": "ipython",
    "version": 3
   },
   "file_extension": ".py",
   "mimetype": "text/x-python",
   "name": "python",
   "nbconvert_exporter": "python",
   "pygments_lexer": "ipython3",
   "version": "3.5.2"
  }
 },
 "nbformat": 4,
 "nbformat_minor": 2
}
